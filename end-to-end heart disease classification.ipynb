{
 "cells": [
  {
   "cell_type": "markdown",
   "id": "21652203-f459-480e-98ad-b60c7278bb21",
   "metadata": {},
   "source": [
    "# **Predicting Heart Disease Using Machine Learning**\n",
    "\n",
    "## Objective\n",
    "\n",
    "This project aims to develop a machine learning model that can predict the presence of heart disease based on various medical attributes. By leveraging Python-based data science and machine learning libraries, we will analyze patient data, identify key predictors, and evaluate different models to achieve optimal performance.\n",
    "\n",
    "## Project Workflow Overview\n",
    "\n",
    "This project follows a structured machine learning workflow, covering key steps from data exploration to model evaluation and reporting.\n",
    "\n",
    "#### Steps & Objectives\n",
    "\n",
    "| **Step** | **Description** |\n",
    "|----------|---------------|\n",
    "| **Exploratory Data Analysis (EDA)** | Understanding the dataset, identifying patterns, and detecting anomalies. |\n",
    "| **Model Training** | Creating machine learning models to predict a target variable based on input features. |\n",
    "| **Model Evaluation** | Assessing model performance using problem-specific evaluation metrics. |\n",
    "| **Model Comparison** | Testing different models to determine the most effective one. |\n",
    "| **Model Hyperparameter Tuning** | Optimizing model parameters to improve performance. |\n",
    "| **Feature Importance** | Identifying which features contribute most to the prediction of heart disease. |\n",
    "| **Cross-Validation** | Ensuring the model generalizes well to unseen data. |\n",
    "| **Reporting Findings** | Summarizing insights, visualizations, and key takeaways for stakeholders. |\n",
    "\n",
    "#### Tools & Libraries Used\n",
    "To accomplish these tasks, we will use:\n",
    "- **pandas, NumPy, Matplotlib, and Seaborn** for data analysis and visualization.\n",
    "- **Scikit-Learn** for machine learning model training, evaluation, and optimization.\n",
    "\n",
    "By following these steps, we aim to build a **robust, interpretable, and accurate** machine learning model for heart disease prediction.\n",
    "\n",
    "### **1.1) Problem Definition**\n",
    "\n",
    "**Given clinical parameters about a patient, can we accurately predict whether they have heart disease?**\n",
    "\n",
    "*  The problem we are exploring is **binary classification**, meaning each sample belongs to one of two possible categories.\n",
    "\n",
    "*  In this case, we will use **various clinical features** (such as health characteristics) to predict whether an individual has **heart disease (1) or not (0).**\n",
    "\n",
    "*  By leveraging machine learning, we aim to develop a model that can assist in early detection and diagnosis, ultimately contributing to better healthcare outcomes.\n",
    "\n",
    "> we also want to be able to describe which parameters are more indicative than others, for example, sex may be more important than age.\n",
    "\n",
    "### **1.2) Data Collection & Exploration**\n",
    "The dataset originates from the [Cleveland](https://archive.ics.uci.edu/ml/datasets/heart+Disease) Heart Disease dataset available in the UCI Machine Learning Repository.\n",
    "\n",
    "An alternative version is also available on [Kaggle](https://www.kaggle.com/datasets/sumaiyatasmeem/heart-disease-classification-dataset).\n",
    "\n",
    "The original dataset contains 76 attributes, but we will focus on 14 key attributes (features) for our analysis.  \n",
    "\n",
    "**Key Definitions**\n",
    "- Attributes / Features – Variables used to predict the target variable (also called independent variables).  \n",
    "- Target Variable – The outcome we aim to predict (dependent variable).  \n",
    "\n",
    "**Independent vs. Dependent Variables**\n",
    "- Independent Variables (Features): A patient’s medical attributes (e.g., age, cholesterol levels, blood pressure).  \n",
    "- Dependent Variable (Target): Whether or not the patient has heart disease (1 = Yes, 0 = No).  \n",
    "\n",
    "> Note: Independent variables help us predict the dependent variable.  \n",
    "\n",
    "By analyzing these features, we aim to build a model that accurately predicts heart disease.\n",
    "\n",
    "\n",
    "### **1.3) Evaluation**\n",
    "\n",
    "Defining an evaluation metric early provides a clear objective, though it may evolve over time.\n",
    "\n",
    "**Initial Goal**\n",
    "\n",
    "\"If we achieve **95% accuracy** in predicting heart disease during the proof of concept, we will pursue this project.\"\n",
    "\n",
    "**Refining Over Time**\n",
    "\n",
    "As the project progresses, we may adjust this metric based on:\n",
    "- Model performance on unseen data.  \n",
    "- Business or clinical requirements.  \n",
    "- Insights from exploratory data analysis.\n",
    "\n",
    "A well-defined evaluation metric ensures our model remains **effective and reliable**.\n",
    "\n",
    "### **1.4) Features**\n",
    "\n",
    "The following are the features we'll use to predict our target variable (heart disease or no heart disease).\n",
    "\n",
    "**Data Dictionary**\n",
    "\n",
    "| Feature   | Description |\n",
    "|-----------|------------|\n",
    "| **age** | Age in years |\n",
    "| **sex** | Sex (1 = male; 0 = female) |\n",
    "| **cp** | Chest pain type: <br> 0 = Typical angina (chest pain related to decreased blood supply to the heart) <br> 1 = Atypical angina (chest pain not related to the heart) <br> 2 = Non-anginal pain (typically esophageal spasms, non-heart related) <br> 3 = Asymptomatic (chest pain not showing signs of disease) |\n",
    "| **trestbps** | Resting blood pressure (in mm Hg on admission to the hospital). Anything above 130-140 is typically a cause for concern. |\n",
    "| **chol** | Serum cholesterol in mg/dl. <br> Serum = LDL + HDL + 0.2 * triglycerides. <br> Above 200 is a cause for concern. |\n",
    "| **fbs** | Fasting blood sugar > 120 mg/dl (1 = true; 0 = false). <br> A value '>126' mg/dL signals diabetes. |\n",
    "| **restecg** | Resting electrocardiographic results: <br> 0 = Nothing to note <br> 1 = ST-T Wave abnormality (can range from mild symptoms to severe problems, signaling a non-normal heartbeat) <br> 2 = Possible or definite left ventricular hypertrophy (enlarged heart's main pumping chamber) |\n",
    "| **thalach** | Maximum heart rate achieved |\n",
    "| **exang** | Exercise-induced angina (1 = yes; 0 = no) |\n",
    "| **oldpeak** | ST depression induced by exercise relative to rest. <br> Measures heart stress during exercise; an unhealthy heart will stress more. |\n",
    "| **slope** | The slope of the peak exercise ST segment: <br> 0 = Upsloping (better heart rate response to exercise, uncommon) <br> 1 = Flat-sloping (minimal change, typical for a healthy heart) <br> 2 = Downsloping (signs of an unhealthy heart) |\n",
    "| **ca** | Number of major vessels (0-3) colored by fluoroscopy. <br> Colored vessels mean the doctor can see the blood passing through. The more blood movement, the better (no clots). |\n",
    "| **thal** | Thallium stress test result: <br> 1, 3 = Normal <br> 6 = Fixed defect (used to be a defect but is now stable) <br> 7 = Reversible defect (improper blood movement during exercise) |\n",
    "| **target** | Presence of heart disease (1 = Yes, 0 = No) (= the predicted attribute) |\n",
    "\n",
    "> **Note**: No personal identifiable information (PPI) can be found in the dataset."
   ]
  },
  {
   "cell_type": "markdown",
   "id": "e6b7fd6e-35fd-4a4e-8a85-aea9c0b6de39",
   "metadata": {},
   "source": [
    "## **2.Preparing the tools**\n",
    "To analyze and manipulate data, we will use the following Python libraries:\n",
    "* 1) pandas for data handling and preprocessing\n",
    "  2) NumPy for numerical operations\n",
    "  3) Matplotlib & Seaborn for visualization\n",
    "  4) Scikit-Learn for machine learning modeling and evaluation"
   ]
  },
  {
   "cell_type": "code",
   "execution_count": 1,
   "id": "ac9b1405-7901-45b8-bebf-e8f65c3ff098",
   "metadata": {},
   "outputs": [
    {
     "name": "stdout",
     "output_type": "stream",
     "text": [
      "Notebook last updated: 2025-03-21 16:07:18.556480\n",
      "\n",
      "NumPy version: 1.26.3\n",
      "pandas version: 2.1.4\n",
      "matplotlib version: 3.8.0\n",
      "Scikit-Learn version: 1.2.2\n"
     ]
    }
   ],
   "source": [
    "# Data analysis and visualization libraries and regular Exploratory Data Analysis (EDA)\n",
    "import numpy as np  # Numerical operations\n",
    "import pandas as pd  # Data manipulation\n",
    "import matplotlib\n",
    "import matplotlib.pyplot as plt  # Data visualization\n",
    "import seaborn as sns  # Advanced visualization\n",
    "import datetime\n",
    "\n",
    "# Ensuring our plots appear within the notebook\n",
    "%matplotlib inline  \n",
    "\n",
    "# Machine learning models from Scikit-Learn\n",
    "import sklearn\n",
    "from sklearn.linear_model import LogisticRegression\n",
    "from sklearn.neighbors import KNeighborsClassifier\n",
    "from sklearn.ensemble import RandomForestClassifier\n",
    "\n",
    "# Model selection and evaluation tools\n",
    "from sklearn.model_selection import train_test_split, cross_val_score\n",
    "from sklearn.model_selection import RandomizedSearchCV, GridSearchCV\n",
    "from sklearn.metrics import (\n",
    "    confusion_matrix,\n",
    "    classification_report,\n",
    "    precision_score,\n",
    "    recall_score,\n",
    "    f1_score,\n",
    "    RocCurveDisplay\n",
    ")\n",
    "\n",
    "# Display the last updated timestamp for this notebook\n",
    "print(f\"Notebook last updated: {datetime.datetime.now()}\\n\")\n",
    "\n",
    "# Display the versions of key libraries used in this project\n",
    "print(f\"NumPy version: {np.__version__}\")\n",
    "print(f\"pandas version: {pd.__version__}\")\n",
    "print(f\"matplotlib version: {matplotlib.__version__}\")\n",
    "print(f\"Scikit-Learn version: {sklearn.__version__}\")"
   ]
  },
  {
   "cell_type": "markdown",
   "id": "08584f0f-ebf3-4bb0-a7fb-78dbb85626d9",
   "metadata": {},
   "source": [
    "## **3.Loading the Data**\n",
    "\n",
    "### Storing and Loading Data in Pandas\n",
    "\n",
    "There are various ways to store tabular data, similar to an Excel spreadsheet. One of the most common formats is **CSV (Comma-Separated Values)**.\n",
    "\n",
    "### Common Data Formats\n",
    "- **CSV** – Comma-separated values (most widely used)\n",
    "- **JSON** – Lightweight format for structured data\n",
    "- **SQL** – Relational database format\n",
    "- **Parquet** – Optimized columnar storage for large datasets\n",
    "\n",
    "### Loading a CSV File in Pandas\n",
    "Pandas provides a simple way to read CSV files using the `read_csv()` function:\n"
   ]
  },
  {
   "cell_type": "code",
   "execution_count": 2,
   "id": "c1972f0a-5c44-480a-bc6c-5b0768dd5705",
   "metadata": {},
   "outputs": [
    {
     "data": {
      "text/plain": [
       "(303, 14)"
      ]
     },
     "execution_count": 2,
     "metadata": {},
     "output_type": "execute_result"
    }
   ],
   "source": [
    "#We are reading the file directly from the github repository, We can also specify the path to the dataset in our local system\n",
    "url = \"https://raw.githubusercontent.com/DanielJose-J/Heart-Disease-Classification-Project/refs/heads/main/heart-disease.csv\"\n",
    "df = pd.read_csv(url) #DataFrame shortened to df\n",
    "df.shape # (Rows,Columns)"
   ]
  },
  {
   "cell_type": "markdown",
   "id": "de812483-7761-46c8-a50d-a3ed920250cf",
   "metadata": {},
   "source": [
    "## **4. Data Exploration (Exploratory Data Analysis - EDA)**\n",
    "\n",
    "Once the dataset is imported, the next step is **Exploratory Data Analysis (EDA)**.  \n",
    "EDA helps us **understand the data**, detect patterns, and identify potential issues such as missing values or outliers.\n",
    "\n",
    "### **Why is EDA Important?**\n",
    "- Helps build familiarity with the dataset.\n",
    "- Identifies relationships between variables.\n",
    "- Detects anomalies, missing values, and potential data quality issues.\n",
    "- Ensures models are not overfitting or underfitting.\n",
    "\n",
    "### **Key Questions to Answer in EDA**\n",
    "1. What questions are we trying to solve?\n",
    "2. What types of data do we have, and how should we treat them?\n",
    "3. Are there missing values? How should they be handled?\n",
    "4. Are there outliers? Do they impact model performance?\n",
    "5. Can we modify, add, or remove features to improve results?\n",
    "\n",
    "### **Basic EDA Techniques**- \n",
    "**View Sample Data:**  "
   ]
  },
  {
   "cell_type": "code",
   "execution_count": 3,
   "id": "2147b5a8-3652-45d1-9c4d-a744dd44f998",
   "metadata": {},
   "outputs": [
    {
     "data": {
      "text/html": [
       "<div>\n",
       "<style scoped>\n",
       "    .dataframe tbody tr th:only-of-type {\n",
       "        vertical-align: middle;\n",
       "    }\n",
       "\n",
       "    .dataframe tbody tr th {\n",
       "        vertical-align: top;\n",
       "    }\n",
       "\n",
       "    .dataframe thead th {\n",
       "        text-align: right;\n",
       "    }\n",
       "</style>\n",
       "<table border=\"1\" class=\"dataframe\">\n",
       "  <thead>\n",
       "    <tr style=\"text-align: right;\">\n",
       "      <th></th>\n",
       "      <th>age</th>\n",
       "      <th>sex</th>\n",
       "      <th>cp</th>\n",
       "      <th>trestbps</th>\n",
       "      <th>chol</th>\n",
       "      <th>fbs</th>\n",
       "      <th>restecg</th>\n",
       "      <th>thalach</th>\n",
       "      <th>exang</th>\n",
       "      <th>oldpeak</th>\n",
       "      <th>slope</th>\n",
       "      <th>ca</th>\n",
       "      <th>thal</th>\n",
       "      <th>target</th>\n",
       "    </tr>\n",
       "  </thead>\n",
       "  <tbody>\n",
       "    <tr>\n",
       "      <th>0</th>\n",
       "      <td>63</td>\n",
       "      <td>1</td>\n",
       "      <td>3</td>\n",
       "      <td>145</td>\n",
       "      <td>233</td>\n",
       "      <td>1</td>\n",
       "      <td>0</td>\n",
       "      <td>150</td>\n",
       "      <td>0</td>\n",
       "      <td>2.3</td>\n",
       "      <td>0</td>\n",
       "      <td>0</td>\n",
       "      <td>1</td>\n",
       "      <td>1</td>\n",
       "    </tr>\n",
       "    <tr>\n",
       "      <th>1</th>\n",
       "      <td>37</td>\n",
       "      <td>1</td>\n",
       "      <td>2</td>\n",
       "      <td>130</td>\n",
       "      <td>250</td>\n",
       "      <td>0</td>\n",
       "      <td>1</td>\n",
       "      <td>187</td>\n",
       "      <td>0</td>\n",
       "      <td>3.5</td>\n",
       "      <td>0</td>\n",
       "      <td>0</td>\n",
       "      <td>2</td>\n",
       "      <td>1</td>\n",
       "    </tr>\n",
       "    <tr>\n",
       "      <th>2</th>\n",
       "      <td>41</td>\n",
       "      <td>0</td>\n",
       "      <td>1</td>\n",
       "      <td>130</td>\n",
       "      <td>204</td>\n",
       "      <td>0</td>\n",
       "      <td>0</td>\n",
       "      <td>172</td>\n",
       "      <td>0</td>\n",
       "      <td>1.4</td>\n",
       "      <td>2</td>\n",
       "      <td>0</td>\n",
       "      <td>2</td>\n",
       "      <td>1</td>\n",
       "    </tr>\n",
       "    <tr>\n",
       "      <th>3</th>\n",
       "      <td>56</td>\n",
       "      <td>1</td>\n",
       "      <td>1</td>\n",
       "      <td>120</td>\n",
       "      <td>236</td>\n",
       "      <td>0</td>\n",
       "      <td>1</td>\n",
       "      <td>178</td>\n",
       "      <td>0</td>\n",
       "      <td>0.8</td>\n",
       "      <td>2</td>\n",
       "      <td>0</td>\n",
       "      <td>2</td>\n",
       "      <td>1</td>\n",
       "    </tr>\n",
       "    <tr>\n",
       "      <th>4</th>\n",
       "      <td>57</td>\n",
       "      <td>0</td>\n",
       "      <td>0</td>\n",
       "      <td>120</td>\n",
       "      <td>354</td>\n",
       "      <td>0</td>\n",
       "      <td>1</td>\n",
       "      <td>163</td>\n",
       "      <td>1</td>\n",
       "      <td>0.6</td>\n",
       "      <td>2</td>\n",
       "      <td>0</td>\n",
       "      <td>2</td>\n",
       "      <td>1</td>\n",
       "    </tr>\n",
       "  </tbody>\n",
       "</table>\n",
       "</div>"
      ],
      "text/plain": [
       "   age  sex  cp  trestbps  chol  fbs  restecg  thalach  exang  oldpeak  slope  \\\n",
       "0   63    1   3       145   233    1        0      150      0      2.3      0   \n",
       "1   37    1   2       130   250    0        1      187      0      3.5      0   \n",
       "2   41    0   1       130   204    0        0      172      0      1.4      2   \n",
       "3   56    1   1       120   236    0        1      178      0      0.8      2   \n",
       "4   57    0   0       120   354    0        1      163      1      0.6      2   \n",
       "\n",
       "   ca  thal  target  \n",
       "0   0     1       1  \n",
       "1   0     2       1  \n",
       "2   0     2       1  \n",
       "3   0     2       1  \n",
       "4   0     2       1  "
      ]
     },
     "execution_count": 3,
     "metadata": {},
     "output_type": "execute_result"
    }
   ],
   "source": [
    "#display the first five rows of our data\n",
    "df.head()  # Shows the first 5 rows"
   ]
  },
  {
   "cell_type": "code",
   "execution_count": 4,
   "id": "86c90506-2c3d-4927-a14c-6e9c12371824",
   "metadata": {},
   "outputs": [
    {
     "data": {
      "text/html": [
       "<div>\n",
       "<style scoped>\n",
       "    .dataframe tbody tr th:only-of-type {\n",
       "        vertical-align: middle;\n",
       "    }\n",
       "\n",
       "    .dataframe tbody tr th {\n",
       "        vertical-align: top;\n",
       "    }\n",
       "\n",
       "    .dataframe thead th {\n",
       "        text-align: right;\n",
       "    }\n",
       "</style>\n",
       "<table border=\"1\" class=\"dataframe\">\n",
       "  <thead>\n",
       "    <tr style=\"text-align: right;\">\n",
       "      <th></th>\n",
       "      <th>age</th>\n",
       "      <th>sex</th>\n",
       "      <th>cp</th>\n",
       "      <th>trestbps</th>\n",
       "      <th>chol</th>\n",
       "      <th>fbs</th>\n",
       "      <th>restecg</th>\n",
       "      <th>thalach</th>\n",
       "      <th>exang</th>\n",
       "      <th>oldpeak</th>\n",
       "      <th>slope</th>\n",
       "      <th>ca</th>\n",
       "      <th>thal</th>\n",
       "      <th>target</th>\n",
       "    </tr>\n",
       "  </thead>\n",
       "  <tbody>\n",
       "    <tr>\n",
       "      <th>298</th>\n",
       "      <td>57</td>\n",
       "      <td>0</td>\n",
       "      <td>0</td>\n",
       "      <td>140</td>\n",
       "      <td>241</td>\n",
       "      <td>0</td>\n",
       "      <td>1</td>\n",
       "      <td>123</td>\n",
       "      <td>1</td>\n",
       "      <td>0.2</td>\n",
       "      <td>1</td>\n",
       "      <td>0</td>\n",
       "      <td>3</td>\n",
       "      <td>0</td>\n",
       "    </tr>\n",
       "    <tr>\n",
       "      <th>299</th>\n",
       "      <td>45</td>\n",
       "      <td>1</td>\n",
       "      <td>3</td>\n",
       "      <td>110</td>\n",
       "      <td>264</td>\n",
       "      <td>0</td>\n",
       "      <td>1</td>\n",
       "      <td>132</td>\n",
       "      <td>0</td>\n",
       "      <td>1.2</td>\n",
       "      <td>1</td>\n",
       "      <td>0</td>\n",
       "      <td>3</td>\n",
       "      <td>0</td>\n",
       "    </tr>\n",
       "    <tr>\n",
       "      <th>300</th>\n",
       "      <td>68</td>\n",
       "      <td>1</td>\n",
       "      <td>0</td>\n",
       "      <td>144</td>\n",
       "      <td>193</td>\n",
       "      <td>1</td>\n",
       "      <td>1</td>\n",
       "      <td>141</td>\n",
       "      <td>0</td>\n",
       "      <td>3.4</td>\n",
       "      <td>1</td>\n",
       "      <td>2</td>\n",
       "      <td>3</td>\n",
       "      <td>0</td>\n",
       "    </tr>\n",
       "    <tr>\n",
       "      <th>301</th>\n",
       "      <td>57</td>\n",
       "      <td>1</td>\n",
       "      <td>0</td>\n",
       "      <td>130</td>\n",
       "      <td>131</td>\n",
       "      <td>0</td>\n",
       "      <td>1</td>\n",
       "      <td>115</td>\n",
       "      <td>1</td>\n",
       "      <td>1.2</td>\n",
       "      <td>1</td>\n",
       "      <td>1</td>\n",
       "      <td>3</td>\n",
       "      <td>0</td>\n",
       "    </tr>\n",
       "    <tr>\n",
       "      <th>302</th>\n",
       "      <td>57</td>\n",
       "      <td>0</td>\n",
       "      <td>1</td>\n",
       "      <td>130</td>\n",
       "      <td>236</td>\n",
       "      <td>0</td>\n",
       "      <td>0</td>\n",
       "      <td>174</td>\n",
       "      <td>0</td>\n",
       "      <td>0.0</td>\n",
       "      <td>1</td>\n",
       "      <td>1</td>\n",
       "      <td>2</td>\n",
       "      <td>0</td>\n",
       "    </tr>\n",
       "  </tbody>\n",
       "</table>\n",
       "</div>"
      ],
      "text/plain": [
       "     age  sex  cp  trestbps  chol  fbs  restecg  thalach  exang  oldpeak  \\\n",
       "298   57    0   0       140   241    0        1      123      1      0.2   \n",
       "299   45    1   3       110   264    0        1      132      0      1.2   \n",
       "300   68    1   0       144   193    1        1      141      0      3.4   \n",
       "301   57    1   0       130   131    0        1      115      1      1.2   \n",
       "302   57    0   1       130   236    0        0      174      0      0.0   \n",
       "\n",
       "     slope  ca  thal  target  \n",
       "298      1   0     3       0  \n",
       "299      1   0     3       0  \n",
       "300      1   2     3       0  \n",
       "301      1   1     3       0  \n",
       "302      1   1     2       0  "
      ]
     },
     "execution_count": 4,
     "metadata": {},
     "output_type": "execute_result"
    }
   ],
   "source": [
    "#display the last five rows of our data\n",
    "df.tail()  # Shows the last 5 rows"
   ]
  },
  {
   "cell_type": "code",
   "execution_count": 5,
   "id": "b7ba8802-593a-4ac8-a7d3-58cab6cdf47f",
   "metadata": {},
   "outputs": [
    {
     "data": {
      "text/html": [
       "<div>\n",
       "<style scoped>\n",
       "    .dataframe tbody tr th:only-of-type {\n",
       "        vertical-align: middle;\n",
       "    }\n",
       "\n",
       "    .dataframe tbody tr th {\n",
       "        vertical-align: top;\n",
       "    }\n",
       "\n",
       "    .dataframe thead th {\n",
       "        text-align: right;\n",
       "    }\n",
       "</style>\n",
       "<table border=\"1\" class=\"dataframe\">\n",
       "  <thead>\n",
       "    <tr style=\"text-align: right;\">\n",
       "      <th></th>\n",
       "      <th>age</th>\n",
       "      <th>sex</th>\n",
       "      <th>cp</th>\n",
       "      <th>trestbps</th>\n",
       "      <th>chol</th>\n",
       "      <th>fbs</th>\n",
       "      <th>restecg</th>\n",
       "      <th>thalach</th>\n",
       "      <th>exang</th>\n",
       "      <th>oldpeak</th>\n",
       "      <th>slope</th>\n",
       "      <th>ca</th>\n",
       "      <th>thal</th>\n",
       "      <th>target</th>\n",
       "    </tr>\n",
       "  </thead>\n",
       "  <tbody>\n",
       "    <tr>\n",
       "      <th>121</th>\n",
       "      <td>59</td>\n",
       "      <td>1</td>\n",
       "      <td>0</td>\n",
       "      <td>138</td>\n",
       "      <td>271</td>\n",
       "      <td>0</td>\n",
       "      <td>0</td>\n",
       "      <td>182</td>\n",
       "      <td>0</td>\n",
       "      <td>0.0</td>\n",
       "      <td>2</td>\n",
       "      <td>0</td>\n",
       "      <td>2</td>\n",
       "      <td>1</td>\n",
       "    </tr>\n",
       "    <tr>\n",
       "      <th>290</th>\n",
       "      <td>61</td>\n",
       "      <td>1</td>\n",
       "      <td>0</td>\n",
       "      <td>148</td>\n",
       "      <td>203</td>\n",
       "      <td>0</td>\n",
       "      <td>1</td>\n",
       "      <td>161</td>\n",
       "      <td>0</td>\n",
       "      <td>0.0</td>\n",
       "      <td>2</td>\n",
       "      <td>1</td>\n",
       "      <td>3</td>\n",
       "      <td>0</td>\n",
       "    </tr>\n",
       "    <tr>\n",
       "      <th>221</th>\n",
       "      <td>55</td>\n",
       "      <td>1</td>\n",
       "      <td>0</td>\n",
       "      <td>140</td>\n",
       "      <td>217</td>\n",
       "      <td>0</td>\n",
       "      <td>1</td>\n",
       "      <td>111</td>\n",
       "      <td>1</td>\n",
       "      <td>5.6</td>\n",
       "      <td>0</td>\n",
       "      <td>0</td>\n",
       "      <td>3</td>\n",
       "      <td>0</td>\n",
       "    </tr>\n",
       "    <tr>\n",
       "      <th>152</th>\n",
       "      <td>64</td>\n",
       "      <td>1</td>\n",
       "      <td>3</td>\n",
       "      <td>170</td>\n",
       "      <td>227</td>\n",
       "      <td>0</td>\n",
       "      <td>0</td>\n",
       "      <td>155</td>\n",
       "      <td>0</td>\n",
       "      <td>0.6</td>\n",
       "      <td>1</td>\n",
       "      <td>0</td>\n",
       "      <td>3</td>\n",
       "      <td>1</td>\n",
       "    </tr>\n",
       "    <tr>\n",
       "      <th>92</th>\n",
       "      <td>52</td>\n",
       "      <td>1</td>\n",
       "      <td>2</td>\n",
       "      <td>138</td>\n",
       "      <td>223</td>\n",
       "      <td>0</td>\n",
       "      <td>1</td>\n",
       "      <td>169</td>\n",
       "      <td>0</td>\n",
       "      <td>0.0</td>\n",
       "      <td>2</td>\n",
       "      <td>4</td>\n",
       "      <td>2</td>\n",
       "      <td>1</td>\n",
       "    </tr>\n",
       "    <tr>\n",
       "      <th>176</th>\n",
       "      <td>60</td>\n",
       "      <td>1</td>\n",
       "      <td>0</td>\n",
       "      <td>117</td>\n",
       "      <td>230</td>\n",
       "      <td>1</td>\n",
       "      <td>1</td>\n",
       "      <td>160</td>\n",
       "      <td>1</td>\n",
       "      <td>1.4</td>\n",
       "      <td>2</td>\n",
       "      <td>2</td>\n",
       "      <td>3</td>\n",
       "      <td>0</td>\n",
       "    </tr>\n",
       "    <tr>\n",
       "      <th>81</th>\n",
       "      <td>45</td>\n",
       "      <td>1</td>\n",
       "      <td>1</td>\n",
       "      <td>128</td>\n",
       "      <td>308</td>\n",
       "      <td>0</td>\n",
       "      <td>0</td>\n",
       "      <td>170</td>\n",
       "      <td>0</td>\n",
       "      <td>0.0</td>\n",
       "      <td>2</td>\n",
       "      <td>0</td>\n",
       "      <td>2</td>\n",
       "      <td>1</td>\n",
       "    </tr>\n",
       "    <tr>\n",
       "      <th>284</th>\n",
       "      <td>61</td>\n",
       "      <td>1</td>\n",
       "      <td>0</td>\n",
       "      <td>140</td>\n",
       "      <td>207</td>\n",
       "      <td>0</td>\n",
       "      <td>0</td>\n",
       "      <td>138</td>\n",
       "      <td>1</td>\n",
       "      <td>1.9</td>\n",
       "      <td>2</td>\n",
       "      <td>1</td>\n",
       "      <td>3</td>\n",
       "      <td>0</td>\n",
       "    </tr>\n",
       "    <tr>\n",
       "      <th>114</th>\n",
       "      <td>55</td>\n",
       "      <td>1</td>\n",
       "      <td>1</td>\n",
       "      <td>130</td>\n",
       "      <td>262</td>\n",
       "      <td>0</td>\n",
       "      <td>1</td>\n",
       "      <td>155</td>\n",
       "      <td>0</td>\n",
       "      <td>0.0</td>\n",
       "      <td>2</td>\n",
       "      <td>0</td>\n",
       "      <td>2</td>\n",
       "      <td>1</td>\n",
       "    </tr>\n",
       "    <tr>\n",
       "      <th>283</th>\n",
       "      <td>40</td>\n",
       "      <td>1</td>\n",
       "      <td>0</td>\n",
       "      <td>152</td>\n",
       "      <td>223</td>\n",
       "      <td>0</td>\n",
       "      <td>1</td>\n",
       "      <td>181</td>\n",
       "      <td>0</td>\n",
       "      <td>0.0</td>\n",
       "      <td>2</td>\n",
       "      <td>0</td>\n",
       "      <td>3</td>\n",
       "      <td>0</td>\n",
       "    </tr>\n",
       "  </tbody>\n",
       "</table>\n",
       "</div>"
      ],
      "text/plain": [
       "     age  sex  cp  trestbps  chol  fbs  restecg  thalach  exang  oldpeak  \\\n",
       "121   59    1   0       138   271    0        0      182      0      0.0   \n",
       "290   61    1   0       148   203    0        1      161      0      0.0   \n",
       "221   55    1   0       140   217    0        1      111      1      5.6   \n",
       "152   64    1   3       170   227    0        0      155      0      0.6   \n",
       "92    52    1   2       138   223    0        1      169      0      0.0   \n",
       "176   60    1   0       117   230    1        1      160      1      1.4   \n",
       "81    45    1   1       128   308    0        0      170      0      0.0   \n",
       "284   61    1   0       140   207    0        0      138      1      1.9   \n",
       "114   55    1   1       130   262    0        1      155      0      0.0   \n",
       "283   40    1   0       152   223    0        1      181      0      0.0   \n",
       "\n",
       "     slope  ca  thal  target  \n",
       "121      2   0     2       1  \n",
       "290      2   1     3       0  \n",
       "221      0   0     3       0  \n",
       "152      1   0     3       1  \n",
       "92       2   4     2       1  \n",
       "176      2   2     3       0  \n",
       "81       2   0     2       1  \n",
       "284      2   1     3       0  \n",
       "114      2   0     2       1  \n",
       "283      2   0     3       0  "
      ]
     },
     "execution_count": 5,
     "metadata": {},
     "output_type": "execute_result"
    }
   ],
   "source": [
    "#display 10 random rows of our data\n",
    "df.sample(10)  # Displays 10 random rows"
   ]
  },
  {
   "cell_type": "markdown",
   "id": "bf60a376-bda5-45c3-a598-dcb13c38c4d1",
   "metadata": {},
   "source": [
    "**Checking Class Balance**\n",
    "\n",
    "To check how many positive (`1`) and negative (`0`) samples exist in our dataset\n",
    "The `value_counts()` function allows us to count how often each unique value appears in a categorical column."
   ]
  },
  {
   "cell_type": "code",
   "execution_count": 6,
   "id": "fe71c215-68ed-4593-bf75-58868530afd2",
   "metadata": {},
   "outputs": [
    {
     "name": "stdout",
     "output_type": "stream",
     "text": [
      "Class distribution in the target variable:\n",
      "target\n",
      "1    165\n",
      "0    138\n",
      "Name: count, dtype: int64\n",
      "\n",
      "Class distribution (in %):\n",
      "target\n",
      "1    54.455446\n",
      "0    45.544554\n",
      "Name: proportion, dtype: float64\n"
     ]
    }
   ],
   "source": [
    "# Count the number of positive (1) and negative (0) cases in the target variable\n",
    "print(\"Class distribution in the target variable:\")\n",
    "print(df.target.value_counts())\n",
    "\n",
    "# Display class distribution as percentages\n",
    "print(\"\\nClass distribution (in %):\")\n",
    "print(df.target.value_counts(normalize=True) * 100)"
   ]
  },
  {
   "cell_type": "markdown",
   "id": "79878e25-bbdd-4ef3-9061-c0e7824f8c7e",
   "metadata": {},
   "source": [
    "<br>\n",
    "We can plot the target column value counts by calling the plot() function and telling it what kind of plot we'd like, in this case, bar is good."
   ]
  },
  {
   "cell_type": "code",
   "execution_count": 7,
   "id": "fb767c43-e3eb-4b95-8331-afe85a40916b",
   "metadata": {},
   "outputs": [
    {
     "data": {
      "image/png": "[encoded data removed]",
      "text/plain": [
       "<Figure size 640x480 with 1 Axes>"
      ]
     },
     "metadata": {},
     "output_type": "display_data"
    }
   ],
   "source": [
    "# Plot the target variable distribution as a bar chart\n",
    "ax = df.target.value_counts().plot(kind=\"bar\", color=[\"green\", \"red\"])\n",
    "\n",
    "# Update x-axis labels for better clarity\n",
    "ax.set_xticklabels([\"No Heart Disease\", \"Heart Disease\"], rotation=0)\n",
    "\n",
    "# Add axis labels and title\n",
    "plt.xlabel(\"Condition\")\n",
    "plt.ylabel(\"Count\")\n",
    "plt.title(\"Distribution of Heart Disease Cases\")\n",
    "\n",
    "# Show the plot\n",
    "plt.show()"
   ]
  },
  {
   "cell_type": "markdown",
   "id": "77b571a2-8474-47a6-96d3-e5e0acca7622",
   "metadata": {},
   "source": [
    "<br>\n",
    "`pd.DataFrame.info()` provides a quick overview of the dataset, including the number of missing values and data types.\n",
    "\n",
    "In our case, all columns are numerical, and there are no missing values."
   ]
  },
  {
   "cell_type": "code",
   "execution_count": 8,
   "id": "660c0879-ed95-49d0-931f-6a821584f298",
   "metadata": {},
   "outputs": [
    {
     "name": "stdout",
     "output_type": "stream",
     "text": [
      "<class 'pandas.core.frame.DataFrame'>\n",
      "RangeIndex: 303 entries, 0 to 302\n",
      "Data columns (total 14 columns):\n",
      " #   Column    Non-Null Count  Dtype  \n",
      "---  ------    --------------  -----  \n",
      " 0   age       303 non-null    int64  \n",
      " 1   sex       303 non-null    int64  \n",
      " 2   cp        303 non-null    int64  \n",
      " 3   trestbps  303 non-null    int64  \n",
      " 4   chol      303 non-null    int64  \n",
      " 5   fbs       303 non-null    int64  \n",
      " 6   restecg   303 non-null    int64  \n",
      " 7   thalach   303 non-null    int64  \n",
      " 8   exang     303 non-null    int64  \n",
      " 9   oldpeak   303 non-null    float64\n",
      " 10  slope     303 non-null    int64  \n",
      " 11  ca        303 non-null    int64  \n",
      " 12  thal      303 non-null    int64  \n",
      " 13  target    303 non-null    int64  \n",
      "dtypes: float64(1), int64(13)\n",
      "memory usage: 33.3 KB\n"
     ]
    }
   ],
   "source": [
    "df.info() #for a quick complete overview of our data"
   ]
  },
  {
   "cell_type": "markdown",
   "id": "4d0d0984-e95a-4a74-ad09-c0e362aa46cc",
   "metadata": {},
   "source": [
    "<br>\n",
    "Another way to gain quick insights into a DataFrame is by using `pd.DataFrame.describe()`.  \n",
    "\n",
    "`describe()` provides summary statistics for numerical columns, including:\n",
    "- **count**: Number of non-null values  \n",
    "- **mean**: Average value  \n",
    "- **std**: Standard deviation (spread of data)  \n",
    "- **min/max**: Minimum and maximum values  \n",
    "- **25%, 50%, 75%**: Percentiles (quartiles of the data)  "
   ]
  },
  {
   "cell_type": "code",
   "execution_count": 9,
   "id": "28893b6c-924f-4960-8bef-3714204302c0",
   "metadata": {},
   "outputs": [
    {
     "data": {
      "text/html": [
       "<div>\n",
       "<style scoped>\n",
       "    .dataframe tbody tr th:only-of-type {\n",
       "        vertical-align: middle;\n",
       "    }\n",
       "\n",
       "    .dataframe tbody tr th {\n",
       "        vertical-align: top;\n",
       "    }\n",
       "\n",
       "    .dataframe thead th {\n",
       "        text-align: right;\n",
       "    }\n",
       "</style>\n",
       "<table border=\"1\" class=\"dataframe\">\n",
       "  <thead>\n",
       "    <tr style=\"text-align: right;\">\n",
       "      <th></th>\n",
       "      <th>age</th>\n",
       "      <th>sex</th>\n",
       "      <th>cp</th>\n",
       "      <th>trestbps</th>\n",
       "      <th>chol</th>\n",
       "      <th>fbs</th>\n",
       "      <th>restecg</th>\n",
       "      <th>thalach</th>\n",
       "      <th>exang</th>\n",
       "      <th>oldpeak</th>\n",
       "      <th>slope</th>\n",
       "      <th>ca</th>\n",
       "      <th>thal</th>\n",
       "      <th>target</th>\n",
       "    </tr>\n",
       "  </thead>\n",
       "  <tbody>\n",
       "    <tr>\n",
       "      <th>count</th>\n",
       "      <td>303.000000</td>\n",
       "      <td>303.000000</td>\n",
       "      <td>303.000000</td>\n",
       "      <td>303.000000</td>\n",
       "      <td>303.000000</td>\n",
       "      <td>303.000000</td>\n",
       "      <td>303.000000</td>\n",
       "      <td>303.000000</td>\n",
       "      <td>303.000000</td>\n",
       "      <td>303.000000</td>\n",
       "      <td>303.000000</td>\n",
       "      <td>303.000000</td>\n",
       "      <td>303.000000</td>\n",
       "      <td>303.000000</td>\n",
       "    </tr>\n",
       "    <tr>\n",
       "      <th>mean</th>\n",
       "      <td>54.366337</td>\n",
       "      <td>0.683168</td>\n",
       "      <td>0.966997</td>\n",
       "      <td>131.623762</td>\n",
       "      <td>246.264026</td>\n",
       "      <td>0.148515</td>\n",
       "      <td>0.528053</td>\n",
       "      <td>149.646865</td>\n",
       "      <td>0.326733</td>\n",
       "      <td>1.039604</td>\n",
       "      <td>1.399340</td>\n",
       "      <td>0.729373</td>\n",
       "      <td>2.313531</td>\n",
       "      <td>0.544554</td>\n",
       "    </tr>\n",
       "    <tr>\n",
       "      <th>std</th>\n",
       "      <td>9.082101</td>\n",
       "      <td>0.466011</td>\n",
       "      <td>1.032052</td>\n",
       "      <td>17.538143</td>\n",
       "      <td>51.830751</td>\n",
       "      <td>0.356198</td>\n",
       "      <td>0.525860</td>\n",
       "      <td>22.905161</td>\n",
       "      <td>0.469794</td>\n",
       "      <td>1.161075</td>\n",
       "      <td>0.616226</td>\n",
       "      <td>1.022606</td>\n",
       "      <td>0.612277</td>\n",
       "      <td>0.498835</td>\n",
       "    </tr>\n",
       "    <tr>\n",
       "      <th>min</th>\n",
       "      <td>29.000000</td>\n",
       "      <td>0.000000</td>\n",
       "      <td>0.000000</td>\n",
       "      <td>94.000000</td>\n",
       "      <td>126.000000</td>\n",
       "      <td>0.000000</td>\n",
       "      <td>0.000000</td>\n",
       "      <td>71.000000</td>\n",
       "      <td>0.000000</td>\n",
       "      <td>0.000000</td>\n",
       "      <td>0.000000</td>\n",
       "      <td>0.000000</td>\n",
       "      <td>0.000000</td>\n",
       "      <td>0.000000</td>\n",
       "    </tr>\n",
       "    <tr>\n",
       "      <th>25%</th>\n",
       "      <td>47.500000</td>\n",
       "      <td>0.000000</td>\n",
       "      <td>0.000000</td>\n",
       "      <td>120.000000</td>\n",
       "      <td>211.000000</td>\n",
       "      <td>0.000000</td>\n",
       "      <td>0.000000</td>\n",
       "      <td>133.500000</td>\n",
       "      <td>0.000000</td>\n",
       "      <td>0.000000</td>\n",
       "      <td>1.000000</td>\n",
       "      <td>0.000000</td>\n",
       "      <td>2.000000</td>\n",
       "      <td>0.000000</td>\n",
       "    </tr>\n",
       "    <tr>\n",
       "      <th>50%</th>\n",
       "      <td>55.000000</td>\n",
       "      <td>1.000000</td>\n",
       "      <td>1.000000</td>\n",
       "      <td>130.000000</td>\n",
       "      <td>240.000000</td>\n",
       "      <td>0.000000</td>\n",
       "      <td>1.000000</td>\n",
       "      <td>153.000000</td>\n",
       "      <td>0.000000</td>\n",
       "      <td>0.800000</td>\n",
       "      <td>1.000000</td>\n",
       "      <td>0.000000</td>\n",
       "      <td>2.000000</td>\n",
       "      <td>1.000000</td>\n",
       "    </tr>\n",
       "    <tr>\n",
       "      <th>75%</th>\n",
       "      <td>61.000000</td>\n",
       "      <td>1.000000</td>\n",
       "      <td>2.000000</td>\n",
       "      <td>140.000000</td>\n",
       "      <td>274.500000</td>\n",
       "      <td>0.000000</td>\n",
       "      <td>1.000000</td>\n",
       "      <td>166.000000</td>\n",
       "      <td>1.000000</td>\n",
       "      <td>1.600000</td>\n",
       "      <td>2.000000</td>\n",
       "      <td>1.000000</td>\n",
       "      <td>3.000000</td>\n",
       "      <td>1.000000</td>\n",
       "    </tr>\n",
       "    <tr>\n",
       "      <th>max</th>\n",
       "      <td>77.000000</td>\n",
       "      <td>1.000000</td>\n",
       "      <td>3.000000</td>\n",
       "      <td>200.000000</td>\n",
       "      <td>564.000000</td>\n",
       "      <td>1.000000</td>\n",
       "      <td>2.000000</td>\n",
       "      <td>202.000000</td>\n",
       "      <td>1.000000</td>\n",
       "      <td>6.200000</td>\n",
       "      <td>2.000000</td>\n",
       "      <td>4.000000</td>\n",
       "      <td>3.000000</td>\n",
       "      <td>1.000000</td>\n",
       "    </tr>\n",
       "  </tbody>\n",
       "</table>\n",
       "</div>"
      ],
      "text/plain": [
       "              age         sex          cp    trestbps        chol         fbs  \\\n",
       "count  303.000000  303.000000  303.000000  303.000000  303.000000  303.000000   \n",
       "mean    54.366337    0.683168    0.966997  131.623762  246.264026    0.148515   \n",
       "std      9.082101    0.466011    1.032052   17.538143   51.830751    0.356198   \n",
       "min     29.000000    0.000000    0.000000   94.000000  126.000000    0.000000   \n",
       "25%     47.500000    0.000000    0.000000  120.000000  211.000000    0.000000   \n",
       "50%     55.000000    1.000000    1.000000  130.000000  240.000000    0.000000   \n",
       "75%     61.000000    1.000000    2.000000  140.000000  274.500000    0.000000   \n",
       "max     77.000000    1.000000    3.000000  200.000000  564.000000    1.000000   \n",
       "\n",
       "          restecg     thalach       exang     oldpeak       slope          ca  \\\n",
       "count  303.000000  303.000000  303.000000  303.000000  303.000000  303.000000   \n",
       "mean     0.528053  149.646865    0.326733    1.039604    1.399340    0.729373   \n",
       "std      0.525860   22.905161    0.469794    1.161075    0.616226    1.022606   \n",
       "min      0.000000   71.000000    0.000000    0.000000    0.000000    0.000000   \n",
       "25%      0.000000  133.500000    0.000000    0.000000    1.000000    0.000000   \n",
       "50%      1.000000  153.000000    0.000000    0.800000    1.000000    0.000000   \n",
       "75%      1.000000  166.000000    1.000000    1.600000    2.000000    1.000000   \n",
       "max      2.000000  202.000000    1.000000    6.200000    2.000000    4.000000   \n",
       "\n",
       "             thal      target  \n",
       "count  303.000000  303.000000  \n",
       "mean     2.313531    0.544554  \n",
       "std      0.612277    0.498835  \n",
       "min      0.000000    0.000000  \n",
       "25%      2.000000    0.000000  \n",
       "50%      2.000000    1.000000  \n",
       "75%      3.000000    1.000000  \n",
       "max      3.000000    1.000000  "
      ]
     },
     "execution_count": 9,
     "metadata": {},
     "output_type": "execute_result"
    }
   ],
   "source": [
    "df.describe()"
   ]
  },
  {
   "cell_type": "markdown",
   "id": "dacdecee-da8d-4858-8913-5206fda5b8c5",
   "metadata": {},
   "source": [
    "### 4.1 Comparing One Feature to Another\n",
    "\n",
    "To explore how independent variables interact with the target variable, we can use `pd.crosstab(index, columns)`.  \n",
    "\n",
    "**Comparing Sex with Heart Disease Presence**\n",
    "\n",
    "Remember from our data dictionary, for the target column, 1 = heart disease present, 0 = no heart disease.\n",
    "\n",
    "And for sex, 1 = male, 0 = female.\n",
    "\n",
    "Let's first check the distribution of males and females in our dataset:"
   ]
  },
  {
   "cell_type": "code",
   "execution_count": 10,
   "id": "693cce6b-eef0-4f2e-8d28-a3a67ab83308",
   "metadata": {},
   "outputs": [
    {
     "data": {
      "text/plain": [
       "sex\n",
       "1    207\n",
       "0     96\n",
       "Name: count, dtype: int64"
      ]
     },
     "execution_count": 10,
     "metadata": {},
     "output_type": "execute_result"
    }
   ],
   "source": [
    "df.sex.value_counts()"
   ]
  },
  {
   "cell_type": "markdown",
   "id": "cad9264c-f8a0-4d8d-b56c-e58f05d68f34",
   "metadata": {},
   "source": [
    "There are 207 males and 96 females in our study.\n",
    "\n",
    "Now, let's compare the target column (heart disease presence) with the sex column:"
   ]
  },
  {
   "cell_type": "code",
   "execution_count": 11,
   "id": "72cdbf57-71bb-4848-a9bf-97f3d3dd2488",
   "metadata": {},
   "outputs": [
    {
     "data": {
      "text/html": [
       "<div>\n",
       "<style scoped>\n",
       "    .dataframe tbody tr th:only-of-type {\n",
       "        vertical-align: middle;\n",
       "    }\n",
       "\n",
       "    .dataframe tbody tr th {\n",
       "        vertical-align: top;\n",
       "    }\n",
       "\n",
       "    .dataframe thead th {\n",
       "        text-align: right;\n",
       "    }\n",
       "</style>\n",
       "<table border=\"1\" class=\"dataframe\">\n",
       "  <thead>\n",
       "    <tr style=\"text-align: right;\">\n",
       "      <th>sex</th>\n",
       "      <th>0</th>\n",
       "      <th>1</th>\n",
       "    </tr>\n",
       "    <tr>\n",
       "      <th>target</th>\n",
       "      <th></th>\n",
       "      <th></th>\n",
       "    </tr>\n",
       "  </thead>\n",
       "  <tbody>\n",
       "    <tr>\n",
       "      <th>0</th>\n",
       "      <td>24</td>\n",
       "      <td>114</td>\n",
       "    </tr>\n",
       "    <tr>\n",
       "      <th>1</th>\n",
       "      <td>72</td>\n",
       "      <td>93</td>\n",
       "    </tr>\n",
       "  </tbody>\n",
       "</table>\n",
       "</div>"
      ],
      "text/plain": [
       "sex      0    1\n",
       "target         \n",
       "0       24  114\n",
       "1       72   93"
      ]
     },
     "execution_count": 11,
     "metadata": {},
     "output_type": "execute_result"
    }
   ],
   "source": [
    "# Cross-tabulation of target vs. sex\n",
    "pd.crosstab(index=df.target, columns=df.sex)"
   ]
  },
  {
   "cell_type": "markdown",
   "id": "97c1ab4c-e0da-49fa-8c24-cbd5f1f4f7ae",
   "metadata": {},
   "source": [
    "**Key Observations**  \n",
    "- **Females (sex = 0)**: 72 out of 96 (~72%) have heart disease.  \n",
    "- **Males (sex = 1)**: 93 out of 207 (~45%) have heart disease.  \n",
    "- **Overall Baseline Prediction**:  \n",
    "  - If we assume **everyone has heart disease**, we'd be correct **62.5%** of the time:  \n",
    "    ```\n",
    "    (72 + 93) / 303 = 0.625 (62.5%)\n",
    "    ```\n",
    "  - This serves as our **baseline**—a simple heuristic we will aim to outperform using machine learning."
   ]
  },
  {
   "cell_type": "code",
   "execution_count": 12,
   "id": "0604745c-fc37-4fc1-abaa-79b43b12b6ca",
   "metadata": {},
   "outputs": [
    {
     "data": {
      "text/plain": [
       "<matplotlib.legend.Legend at 0x14100d190>"
      ]
     },
     "execution_count": 12,
     "metadata": {},
     "output_type": "execute_result"
    },
    {
     "data": {
      "image/png": "[encoded data removed]",
      "text/plain": [
       "<Figure size 1000x600 with 1 Axes>"
      ]
     },
     "metadata": {},
     "output_type": "display_data"
    }
   ],
   "source": [
    "#Create a plot of the crosstab to better understand the distribution and add labels for better comprehension\n",
    "ax2 = pd.crosstab(df.target,df.sex).plot(kind=\"bar\",figsize=(10,6),color=[\"pink\",\"lightblue\"])\n",
    "\n",
    "ax2.set_xticklabels([\"No Heart Disease\", \"Heart Disease\"],rotation = 0)\n",
    "\n",
    "# Add axis labels and title and update legend for better visualization\n",
    "plt.xlabel(\"Condition\")\n",
    "plt.ylabel(\"Count\")\n",
    "plt.title(\"Distribution of Heart Disease Cases among male and female\")\n",
    "plt.legend([\"Female\",\"Male\"])"
   ]
  },
  {
   "cell_type": "markdown",
   "id": "01ce65d6-4b33-4c75-adea-78e4bb40d33e",
   "metadata": {},
   "source": [
    "### 4.3 Comparing Age and Maximum Heart Rate  \n",
    "\n",
    "To explore relationships between independent variables, we can compare **age** and **thalach** (maximum heart rate) against the **target variable (heart disease presence).**  \n",
    "\n",
    "Since **age** and **thalach** have a wide range of values, a **scatter plot** is ideal for visualizing their distribution.\n"
   ]
  },
  {
   "cell_type": "code",
   "execution_count": 13,
   "id": "9f3425f9-de0c-4565-9ade-cd1590e4b45a",
   "metadata": {},
   "outputs": [
    {
     "data": {
      "text/plain": [
       "<matplotlib.legend.Legend at 0x14105d190>"
      ]
     },
     "execution_count": 13,
     "metadata": {},
     "output_type": "execute_result"
    },
    {
     "data": {
      "image/png": "[encoded data removed]",
      "text/plain": [
       "<Figure size 1000x600 with 1 Axes>"
      ]
     },
     "metadata": {},
     "output_type": "display_data"
    }
   ],
   "source": [
    "plt.figure(figsize=(10,6))\n",
    "\n",
    "#Creating a scatterplot for this scenario as we have a wide range of values\n",
    "\n",
    "#First start with the positive case (heart disease = 1)\n",
    "plt.scatter(df.age[df.target==1],df.thalach[df.target==1],color=\"red\")\n",
    "\n",
    "#Next we plot the negative cases (heart disease = 0), as we want it on the same plot we use the function again\n",
    "plt.scatter(df.age[df.target==0],df.thalach[df.target==0],color=\"green\")\n",
    "\n",
    "#Add labels and information for better comprehension\n",
    "plt.xlabel(\"age\")\n",
    "plt.ylabel(\"max_heart_rate\")\n",
    "plt.title(\"Comparing heart disease as a function of age and max heart rate\")\n",
    "plt.legend([\"heart disease\", \"No heart disease\"])"
   ]
  },
  {
   "cell_type": "markdown",
   "id": "f0070375-1d27-4968-9b4a-b942425dd524",
   "metadata": {},
   "source": [
    "**Observations from the Scatter Plot**  \n",
    "\n",
    "- Younger individuals tend to have higher maximum heart rates (dots are higher on the left side of the graph).  \n",
    "- There appears to be more heart disease cases in younger individuals (more red/orange dots).  \n",
    "- These are initial observations, helping us build an understanding of the data before applying machine learning.\n",
    "\n",
    "**Checking the Age Distribution**  \n",
    "\n",
    "- Distribution refers to the spread of data how values are distributed across a dataset.  \n",
    "- Understanding distributions helps in feature engineering and identifying potential biases.\n",
    "\n",
    "visualizing the **age distribution** in our dataset:"
   ]
  },
  {
   "cell_type": "code",
   "execution_count": 14,
   "id": "bf1cb478-462d-43b0-a703-f644fe569a27",
   "metadata": {},
   "outputs": [
    {
     "data": {
      "image/png": "[encoded data removed]",
      "text/plain": [
       "<Figure size 1000x600 with 1 Axes>"
      ]
     },
     "metadata": {},
     "output_type": "display_data"
    }
   ],
   "source": [
    "#visualizing the age distribution in our dataset for better comprehension\n",
    "plt.figure(figsize=(10,6))\n",
    "\n",
    "#We plot a histogram as it gives a nice distribution of frequency across different groups\n",
    "plt.hist(df.age, bins=15, edgecolor=\"black\",color=\"purple\")\n",
    "\n",
    "#Adding labels and titles\n",
    "plt.title(\"Distribution of age in the dataset\")\n",
    "plt.xlabel(\"age\")\n",
    "plt.ylabel(\"frequency\")\n",
    "plt.show()"
   ]
  },
  {
   "cell_type": "markdown",
   "id": "6afba2dd-b378-41b6-b17f-c0b2ddb25d02",
   "metadata": {},
   "source": [
    "We can observe that the **age distribution follows a normal pattern** but is slightly **right-skewed**."
   ]
  },
  {
   "cell_type": "markdown",
   "id": "9eca52d0-7805-47a3-af22-36b8a3b252df",
   "metadata": {},
   "source": [
    "### 4.4 Comparing Heart Disease Frequency and Chest Pain Type  \n",
    "\n",
    "Next, we will compare **chest pain type (cp)** with our **target variable (heart disease presence).**  \n",
    "\n",
    "Since `cp` is a categorical variable, we can analyze its relationship with heart disease using a **cross-tabulation** and a **bar plot**, similar to our previous analysis with sex.\n",
    "\n",
    "**Chest Pain Type (cp) Categories:**\n",
    "- **0** = Typical angina (chest pain related to reduced blood supply to the heart)\n",
    "- **1** = Atypical angina (chest pain not related to the heart)\n",
    "- **2** = Non-anginal pain (typically esophageal spasms, non-heart related)\n",
    "- **3** = Asymptomatic (no chest pain but heart disease present)\n",
    "\n",
    "**Cross-tabulation of Chest Pain Type and Heart Disease**\n",
    "\n"
   ]
  },
  {
   "cell_type": "code",
   "execution_count": 15,
   "id": "bd5bee7c-565d-4ab8-9661-c735069eac1c",
   "metadata": {},
   "outputs": [
    {
     "data": {
      "text/html": [
       "<div>\n",
       "<style scoped>\n",
       "    .dataframe tbody tr th:only-of-type {\n",
       "        vertical-align: middle;\n",
       "    }\n",
       "\n",
       "    .dataframe tbody tr th {\n",
       "        vertical-align: top;\n",
       "    }\n",
       "\n",
       "    .dataframe thead th {\n",
       "        text-align: right;\n",
       "    }\n",
       "</style>\n",
       "<table border=\"1\" class=\"dataframe\">\n",
       "  <thead>\n",
       "    <tr style=\"text-align: right;\">\n",
       "      <th>target</th>\n",
       "      <th>0</th>\n",
       "      <th>1</th>\n",
       "    </tr>\n",
       "    <tr>\n",
       "      <th>cp</th>\n",
       "      <th></th>\n",
       "      <th></th>\n",
       "    </tr>\n",
       "  </thead>\n",
       "  <tbody>\n",
       "    <tr>\n",
       "      <th>0</th>\n",
       "      <td>104</td>\n",
       "      <td>39</td>\n",
       "    </tr>\n",
       "    <tr>\n",
       "      <th>1</th>\n",
       "      <td>9</td>\n",
       "      <td>41</td>\n",
       "    </tr>\n",
       "    <tr>\n",
       "      <th>2</th>\n",
       "      <td>18</td>\n",
       "      <td>69</td>\n",
       "    </tr>\n",
       "    <tr>\n",
       "      <th>3</th>\n",
       "      <td>7</td>\n",
       "      <td>16</td>\n",
       "    </tr>\n",
       "  </tbody>\n",
       "</table>\n",
       "</div>"
      ],
      "text/plain": [
       "target    0   1\n",
       "cp             \n",
       "0       104  39\n",
       "1         9  41\n",
       "2        18  69\n",
       "3         7  16"
      ]
     },
     "execution_count": 15,
     "metadata": {},
     "output_type": "execute_result"
    }
   ],
   "source": [
    "#finding out the frequency of heartdisease cases in different chest pain types\n",
    "pd.crosstab(index=df.cp, columns=df.target)"
   ]
  },
  {
   "cell_type": "code",
   "execution_count": 16,
   "id": "da6d5186-5234-408a-838e-eb7321d06753",
   "metadata": {},
   "outputs": [
    {
     "data": {
      "image/png": "[encoded data removed]",
      "text/plain": [
       "<Figure size 1000x600 with 1 Axes>"
      ]
     },
     "metadata": {},
     "output_type": "display_data"
    }
   ],
   "source": [
    "#Plotting heartdisease frequency amongst different types of chest pain for better understanding and visualization\n",
    "pd.crosstab(df.cp,df.target).plot(kind=\"bar\",figsize=(10,6),color=[\"green\",\"red\"])\n",
    "\n",
    "#setting the title, label and legend for the plot for better comprehension and visualization\n",
    "plt.title(\"Heartdisease frequencies amongst different chest pain types\")\n",
    "plt.xlabel(\"Chest pain type\")\n",
    "plt.ylabel(\"Frequency\")\n",
    "plt.legend([\"No Heart disease\",\"Heart Disease\"])\n",
    "plt.xticks(rotation = 0)\n",
    "plt.show()\n"
   ]
  },
  {
   "cell_type": "markdown",
   "id": "f7631de5-725d-4b9c-9aab-36f74fd6619d",
   "metadata": {},
   "source": [
    "  \n",
    "Interestingly, **atypical angina (cp = 1)**, which is defined as non-heart-related, appears to have a higher ratio of participants with heart disease than those without.  \n",
    "\n",
    "This raises an important question: What does atypical angina actually mean?   \n",
    "\n",
    "According to **PubMed**, even some medical professionals find the term ambiguous. A 23-year study suggests that \"atypical chest pain\" remains widely used but lacks a clear definition, sometimes referring to non-cardiac causes of chest pain.  \n",
    "\n",
    "While not definitive, this observation suggests **potential inconsistencies in medical terminology** that may be reflected in our dataset.  \n"
   ]
  },
  {
   "cell_type": "markdown",
   "id": "c07722f8-c2ed-460d-9174-74de8f6decf9",
   "metadata": {},
   "source": [
    "### 4.5 Correlation Between Independent Variables  \n",
    "\n",
    "Examining the correlation between independent variables helps us understand **which features may have a stronger impact on our target variable**.  \n",
    "\n",
    "To achieve this, we use `pd.DataFrame.corr()`, which generates a **correlation matrix**—a table displaying the relationships between all numerical variables in our dataset.\n",
    "\n",
    "**Generating the Correlation Matrix**"
   ]
  },
  {
   "cell_type": "code",
   "execution_count": 17,
   "id": "e77f33a9-a4bd-4b62-8220-e1d2a3e68d08",
   "metadata": {},
   "outputs": [
    {
     "data": {
      "text/html": [
       "<div>\n",
       "<style scoped>\n",
       "    .dataframe tbody tr th:only-of-type {\n",
       "        vertical-align: middle;\n",
       "    }\n",
       "\n",
       "    .dataframe tbody tr th {\n",
       "        vertical-align: top;\n",
       "    }\n",
       "\n",
       "    .dataframe thead th {\n",
       "        text-align: right;\n",
       "    }\n",
       "</style>\n",
       "<table border=\"1\" class=\"dataframe\">\n",
       "  <thead>\n",
       "    <tr style=\"text-align: right;\">\n",
       "      <th></th>\n",
       "      <th>age</th>\n",
       "      <th>sex</th>\n",
       "      <th>cp</th>\n",
       "      <th>trestbps</th>\n",
       "      <th>chol</th>\n",
       "      <th>fbs</th>\n",
       "      <th>restecg</th>\n",
       "      <th>thalach</th>\n",
       "      <th>exang</th>\n",
       "      <th>oldpeak</th>\n",
       "      <th>slope</th>\n",
       "      <th>ca</th>\n",
       "      <th>thal</th>\n",
       "      <th>target</th>\n",
       "    </tr>\n",
       "  </thead>\n",
       "  <tbody>\n",
       "    <tr>\n",
       "      <th>age</th>\n",
       "      <td>1.000000</td>\n",
       "      <td>-0.098447</td>\n",
       "      <td>-0.068653</td>\n",
       "      <td>0.279351</td>\n",
       "      <td>0.213678</td>\n",
       "      <td>0.121308</td>\n",
       "      <td>-0.116211</td>\n",
       "      <td>-0.398522</td>\n",
       "      <td>0.096801</td>\n",
       "      <td>0.210013</td>\n",
       "      <td>-0.168814</td>\n",
       "      <td>0.276326</td>\n",
       "      <td>0.068001</td>\n",
       "      <td>-0.225439</td>\n",
       "    </tr>\n",
       "    <tr>\n",
       "      <th>sex</th>\n",
       "      <td>-0.098447</td>\n",
       "      <td>1.000000</td>\n",
       "      <td>-0.049353</td>\n",
       "      <td>-0.056769</td>\n",
       "      <td>-0.197912</td>\n",
       "      <td>0.045032</td>\n",
       "      <td>-0.058196</td>\n",
       "      <td>-0.044020</td>\n",
       "      <td>0.141664</td>\n",
       "      <td>0.096093</td>\n",
       "      <td>-0.030711</td>\n",
       "      <td>0.118261</td>\n",
       "      <td>0.210041</td>\n",
       "      <td>-0.280937</td>\n",
       "    </tr>\n",
       "    <tr>\n",
       "      <th>cp</th>\n",
       "      <td>-0.068653</td>\n",
       "      <td>-0.049353</td>\n",
       "      <td>1.000000</td>\n",
       "      <td>0.047608</td>\n",
       "      <td>-0.076904</td>\n",
       "      <td>0.094444</td>\n",
       "      <td>0.044421</td>\n",
       "      <td>0.295762</td>\n",
       "      <td>-0.394280</td>\n",
       "      <td>-0.149230</td>\n",
       "      <td>0.119717</td>\n",
       "      <td>-0.181053</td>\n",
       "      <td>-0.161736</td>\n",
       "      <td>0.433798</td>\n",
       "    </tr>\n",
       "    <tr>\n",
       "      <th>trestbps</th>\n",
       "      <td>0.279351</td>\n",
       "      <td>-0.056769</td>\n",
       "      <td>0.047608</td>\n",
       "      <td>1.000000</td>\n",
       "      <td>0.123174</td>\n",
       "      <td>0.177531</td>\n",
       "      <td>-0.114103</td>\n",
       "      <td>-0.046698</td>\n",
       "      <td>0.067616</td>\n",
       "      <td>0.193216</td>\n",
       "      <td>-0.121475</td>\n",
       "      <td>0.101389</td>\n",
       "      <td>0.062210</td>\n",
       "      <td>-0.144931</td>\n",
       "    </tr>\n",
       "    <tr>\n",
       "      <th>chol</th>\n",
       "      <td>0.213678</td>\n",
       "      <td>-0.197912</td>\n",
       "      <td>-0.076904</td>\n",
       "      <td>0.123174</td>\n",
       "      <td>1.000000</td>\n",
       "      <td>0.013294</td>\n",
       "      <td>-0.151040</td>\n",
       "      <td>-0.009940</td>\n",
       "      <td>0.067023</td>\n",
       "      <td>0.053952</td>\n",
       "      <td>-0.004038</td>\n",
       "      <td>0.070511</td>\n",
       "      <td>0.098803</td>\n",
       "      <td>-0.085239</td>\n",
       "    </tr>\n",
       "    <tr>\n",
       "      <th>fbs</th>\n",
       "      <td>0.121308</td>\n",
       "      <td>0.045032</td>\n",
       "      <td>0.094444</td>\n",
       "      <td>0.177531</td>\n",
       "      <td>0.013294</td>\n",
       "      <td>1.000000</td>\n",
       "      <td>-0.084189</td>\n",
       "      <td>-0.008567</td>\n",
       "      <td>0.025665</td>\n",
       "      <td>0.005747</td>\n",
       "      <td>-0.059894</td>\n",
       "      <td>0.137979</td>\n",
       "      <td>-0.032019</td>\n",
       "      <td>-0.028046</td>\n",
       "    </tr>\n",
       "    <tr>\n",
       "      <th>restecg</th>\n",
       "      <td>-0.116211</td>\n",
       "      <td>-0.058196</td>\n",
       "      <td>0.044421</td>\n",
       "      <td>-0.114103</td>\n",
       "      <td>-0.151040</td>\n",
       "      <td>-0.084189</td>\n",
       "      <td>1.000000</td>\n",
       "      <td>0.044123</td>\n",
       "      <td>-0.070733</td>\n",
       "      <td>-0.058770</td>\n",
       "      <td>0.093045</td>\n",
       "      <td>-0.072042</td>\n",
       "      <td>-0.011981</td>\n",
       "      <td>0.137230</td>\n",
       "    </tr>\n",
       "    <tr>\n",
       "      <th>thalach</th>\n",
       "      <td>-0.398522</td>\n",
       "      <td>-0.044020</td>\n",
       "      <td>0.295762</td>\n",
       "      <td>-0.046698</td>\n",
       "      <td>-0.009940</td>\n",
       "      <td>-0.008567</td>\n",
       "      <td>0.044123</td>\n",
       "      <td>1.000000</td>\n",
       "      <td>-0.378812</td>\n",
       "      <td>-0.344187</td>\n",
       "      <td>0.386784</td>\n",
       "      <td>-0.213177</td>\n",
       "      <td>-0.096439</td>\n",
       "      <td>0.421741</td>\n",
       "    </tr>\n",
       "    <tr>\n",
       "      <th>exang</th>\n",
       "      <td>0.096801</td>\n",
       "      <td>0.141664</td>\n",
       "      <td>-0.394280</td>\n",
       "      <td>0.067616</td>\n",
       "      <td>0.067023</td>\n",
       "      <td>0.025665</td>\n",
       "      <td>-0.070733</td>\n",
       "      <td>-0.378812</td>\n",
       "      <td>1.000000</td>\n",
       "      <td>0.288223</td>\n",
       "      <td>-0.257748</td>\n",
       "      <td>0.115739</td>\n",
       "      <td>0.206754</td>\n",
       "      <td>-0.436757</td>\n",
       "    </tr>\n",
       "    <tr>\n",
       "      <th>oldpeak</th>\n",
       "      <td>0.210013</td>\n",
       "      <td>0.096093</td>\n",
       "      <td>-0.149230</td>\n",
       "      <td>0.193216</td>\n",
       "      <td>0.053952</td>\n",
       "      <td>0.005747</td>\n",
       "      <td>-0.058770</td>\n",
       "      <td>-0.344187</td>\n",
       "      <td>0.288223</td>\n",
       "      <td>1.000000</td>\n",
       "      <td>-0.577537</td>\n",
       "      <td>0.222682</td>\n",
       "      <td>0.210244</td>\n",
       "      <td>-0.430696</td>\n",
       "    </tr>\n",
       "    <tr>\n",
       "      <th>slope</th>\n",
       "      <td>-0.168814</td>\n",
       "      <td>-0.030711</td>\n",
       "      <td>0.119717</td>\n",
       "      <td>-0.121475</td>\n",
       "      <td>-0.004038</td>\n",
       "      <td>-0.059894</td>\n",
       "      <td>0.093045</td>\n",
       "      <td>0.386784</td>\n",
       "      <td>-0.257748</td>\n",
       "      <td>-0.577537</td>\n",
       "      <td>1.000000</td>\n",
       "      <td>-0.080155</td>\n",
       "      <td>-0.104764</td>\n",
       "      <td>0.345877</td>\n",
       "    </tr>\n",
       "    <tr>\n",
       "      <th>ca</th>\n",
       "      <td>0.276326</td>\n",
       "      <td>0.118261</td>\n",
       "      <td>-0.181053</td>\n",
       "      <td>0.101389</td>\n",
       "      <td>0.070511</td>\n",
       "      <td>0.137979</td>\n",
       "      <td>-0.072042</td>\n",
       "      <td>-0.213177</td>\n",
       "      <td>0.115739</td>\n",
       "      <td>0.222682</td>\n",
       "      <td>-0.080155</td>\n",
       "      <td>1.000000</td>\n",
       "      <td>0.151832</td>\n",
       "      <td>-0.391724</td>\n",
       "    </tr>\n",
       "    <tr>\n",
       "      <th>thal</th>\n",
       "      <td>0.068001</td>\n",
       "      <td>0.210041</td>\n",
       "      <td>-0.161736</td>\n",
       "      <td>0.062210</td>\n",
       "      <td>0.098803</td>\n",
       "      <td>-0.032019</td>\n",
       "      <td>-0.011981</td>\n",
       "      <td>-0.096439</td>\n",
       "      <td>0.206754</td>\n",
       "      <td>0.210244</td>\n",
       "      <td>-0.104764</td>\n",
       "      <td>0.151832</td>\n",
       "      <td>1.000000</td>\n",
       "      <td>-0.344029</td>\n",
       "    </tr>\n",
       "    <tr>\n",
       "      <th>target</th>\n",
       "      <td>-0.225439</td>\n",
       "      <td>-0.280937</td>\n",
       "      <td>0.433798</td>\n",
       "      <td>-0.144931</td>\n",
       "      <td>-0.085239</td>\n",
       "      <td>-0.028046</td>\n",
       "      <td>0.137230</td>\n",
       "      <td>0.421741</td>\n",
       "      <td>-0.436757</td>\n",
       "      <td>-0.430696</td>\n",
       "      <td>0.345877</td>\n",
       "      <td>-0.391724</td>\n",
       "      <td>-0.344029</td>\n",
       "      <td>1.000000</td>\n",
       "    </tr>\n",
       "  </tbody>\n",
       "</table>\n",
       "</div>"
      ],
      "text/plain": [
       "               age       sex        cp  trestbps      chol       fbs  \\\n",
       "age       1.000000 -0.098447 -0.068653  0.279351  0.213678  0.121308   \n",
       "sex      -0.098447  1.000000 -0.049353 -0.056769 -0.197912  0.045032   \n",
       "cp       -0.068653 -0.049353  1.000000  0.047608 -0.076904  0.094444   \n",
       "trestbps  0.279351 -0.056769  0.047608  1.000000  0.123174  0.177531   \n",
       "chol      0.213678 -0.197912 -0.076904  0.123174  1.000000  0.013294   \n",
       "fbs       0.121308  0.045032  0.094444  0.177531  0.013294  1.000000   \n",
       "restecg  -0.116211 -0.058196  0.044421 -0.114103 -0.151040 -0.084189   \n",
       "thalach  -0.398522 -0.044020  0.295762 -0.046698 -0.009940 -0.008567   \n",
       "exang     0.096801  0.141664 -0.394280  0.067616  0.067023  0.025665   \n",
       "oldpeak   0.210013  0.096093 -0.149230  0.193216  0.053952  0.005747   \n",
       "slope    -0.168814 -0.030711  0.119717 -0.121475 -0.004038 -0.059894   \n",
       "ca        0.276326  0.118261 -0.181053  0.101389  0.070511  0.137979   \n",
       "thal      0.068001  0.210041 -0.161736  0.062210  0.098803 -0.032019   \n",
       "target   -0.225439 -0.280937  0.433798 -0.144931 -0.085239 -0.028046   \n",
       "\n",
       "           restecg   thalach     exang   oldpeak     slope        ca  \\\n",
       "age      -0.116211 -0.398522  0.096801  0.210013 -0.168814  0.276326   \n",
       "sex      -0.058196 -0.044020  0.141664  0.096093 -0.030711  0.118261   \n",
       "cp        0.044421  0.295762 -0.394280 -0.149230  0.119717 -0.181053   \n",
       "trestbps -0.114103 -0.046698  0.067616  0.193216 -0.121475  0.101389   \n",
       "chol     -0.151040 -0.009940  0.067023  0.053952 -0.004038  0.070511   \n",
       "fbs      -0.084189 -0.008567  0.025665  0.005747 -0.059894  0.137979   \n",
       "restecg   1.000000  0.044123 -0.070733 -0.058770  0.093045 -0.072042   \n",
       "thalach   0.044123  1.000000 -0.378812 -0.344187  0.386784 -0.213177   \n",
       "exang    -0.070733 -0.378812  1.000000  0.288223 -0.257748  0.115739   \n",
       "oldpeak  -0.058770 -0.344187  0.288223  1.000000 -0.577537  0.222682   \n",
       "slope     0.093045  0.386784 -0.257748 -0.577537  1.000000 -0.080155   \n",
       "ca       -0.072042 -0.213177  0.115739  0.222682 -0.080155  1.000000   \n",
       "thal     -0.011981 -0.096439  0.206754  0.210244 -0.104764  0.151832   \n",
       "target    0.137230  0.421741 -0.436757 -0.430696  0.345877 -0.391724   \n",
       "\n",
       "              thal    target  \n",
       "age       0.068001 -0.225439  \n",
       "sex       0.210041 -0.280937  \n",
       "cp       -0.161736  0.433798  \n",
       "trestbps  0.062210 -0.144931  \n",
       "chol      0.098803 -0.085239  \n",
       "fbs      -0.032019 -0.028046  \n",
       "restecg  -0.011981  0.137230  \n",
       "thalach  -0.096439  0.421741  \n",
       "exang     0.206754 -0.436757  \n",
       "oldpeak   0.210244 -0.430696  \n",
       "slope    -0.104764  0.345877  \n",
       "ca        0.151832 -0.391724  \n",
       "thal      1.000000 -0.344029  \n",
       "target   -0.344029  1.000000  "
      ]
     },
     "execution_count": 17,
     "metadata": {},
     "output_type": "execute_result"
    }
   ],
   "source": [
    "# Create a correlation matrix and displaying it\n",
    "corr_matrix = df.corr()\n",
    "corr_matrix\n"
   ]
  },
  {
   "cell_type": "code",
   "execution_count": 18,
   "id": "cf6442fa-2a68-4b61-b2cb-44584f2d0edf",
   "metadata": {},
   "outputs": [
    {
     "data": {
      "text/plain": [
       "Text(0.5, 1.0, 'Correlation Matrix of Features')"
      ]
     },
     "execution_count": 18,
     "metadata": {},
     "output_type": "execute_result"
    },
    {
     "data": {
      "image/png": "[encoded data removed]",
      "text/plain": [
       "<Figure size 1500x1000 with 2 Axes>"
      ]
     },
     "metadata": {},
     "output_type": "display_data"
    }
   ],
   "source": [
    "#For better comprehension we can visualize the correlation matrix using seaborn module\n",
    "plt.figure(figsize=(15,10))\n",
    "\n",
    "sns.heatmap(corr_matrix,cmap=\"gray\",annot=True,fmt=\".2f\")\n",
    "\n",
    "#set the labels and title \n",
    "plt.title(\"Correlation Matrix of Features\",fontsize=16)"
   ]
  },
  {
   "cell_type": "markdown",
   "id": "72bd1d4b-01f5-48d4-af5e-dba953647754",
   "metadata": {},
   "source": [
    "A higher positive value means a potential positive correlation (increase) and a higher negative value means a potential negative correlation (decrease)."
   ]
  },
  {
   "cell_type": "markdown",
   "id": "e4e4bec4-73ee-42cd-9219-ccee2bf93ccf",
   "metadata": {},
   "source": [
    "### 4.6 Model Driven EDA \n",
    "\n",
    "EDA helps us build an intuition about the dataset. So far, we've identified a baseline estimate using sex, but other variables require further analysis.  \n",
    "\n",
    "**Common Data Insights to Explore**\n",
    "- **Distributions:** Understanding how data is spread.  \n",
    "- **Missing Values:** Identifying gaps that may affect model performance.  \n",
    "- **Outliers:** Detecting extreme values that could skew results.  \n",
    "\n",
    "Rather than manually exploring every variable, we will use machine learning models to **guide further analysis**, identify important features, and refine our approach for better predictions.  \n"
   ]
  },
  {
   "cell_type": "markdown",
   "id": "e9859d4e-2600-487b-91d1-0f45c99cbdc0",
   "metadata": {},
   "source": [
    "## **5. Modeling**  \n",
    "\n",
    "Now that we've explored the data, it's time to build a **machine learning model** to predict our **target variable** using the 13 independent variables.  \n",
    "\n",
    "**Problem Statement Recap**  \n",
    "Can we predict whether a patient has heart disease based on clinical parameters?  \n",
    "\n",
    "**Evaluation Metric Recap**  \n",
    "To proceed with this project, we aim to achieve **95% accuracy** in our predictions during the proof of concept.  \n",
    "\n",
    "**Next Steps: Preparing the Data**  \n",
    "Before building a model, we need to ensure our dataset is properly structured, cleaned, and ready for training. Let's take a final look at the data before proceeding.  \n"
   ]
  },
  {
   "cell_type": "code",
   "execution_count": 19,
   "id": "8672eac1-5ebb-41f0-a983-be419a1c340e",
   "metadata": {},
   "outputs": [
    {
     "data": {
      "text/html": [
       "<div>\n",
       "<style scoped>\n",
       "    .dataframe tbody tr th:only-of-type {\n",
       "        vertical-align: middle;\n",
       "    }\n",
       "\n",
       "    .dataframe tbody tr th {\n",
       "        vertical-align: top;\n",
       "    }\n",
       "\n",
       "    .dataframe thead th {\n",
       "        text-align: right;\n",
       "    }\n",
       "</style>\n",
       "<table border=\"1\" class=\"dataframe\">\n",
       "  <thead>\n",
       "    <tr style=\"text-align: right;\">\n",
       "      <th></th>\n",
       "      <th>age</th>\n",
       "      <th>sex</th>\n",
       "      <th>cp</th>\n",
       "      <th>trestbps</th>\n",
       "      <th>chol</th>\n",
       "      <th>fbs</th>\n",
       "      <th>restecg</th>\n",
       "      <th>thalach</th>\n",
       "      <th>exang</th>\n",
       "      <th>oldpeak</th>\n",
       "      <th>slope</th>\n",
       "      <th>ca</th>\n",
       "      <th>thal</th>\n",
       "      <th>target</th>\n",
       "    </tr>\n",
       "  </thead>\n",
       "  <tbody>\n",
       "    <tr>\n",
       "      <th>0</th>\n",
       "      <td>63</td>\n",
       "      <td>1</td>\n",
       "      <td>3</td>\n",
       "      <td>145</td>\n",
       "      <td>233</td>\n",
       "      <td>1</td>\n",
       "      <td>0</td>\n",
       "      <td>150</td>\n",
       "      <td>0</td>\n",
       "      <td>2.3</td>\n",
       "      <td>0</td>\n",
       "      <td>0</td>\n",
       "      <td>1</td>\n",
       "      <td>1</td>\n",
       "    </tr>\n",
       "    <tr>\n",
       "      <th>1</th>\n",
       "      <td>37</td>\n",
       "      <td>1</td>\n",
       "      <td>2</td>\n",
       "      <td>130</td>\n",
       "      <td>250</td>\n",
       "      <td>0</td>\n",
       "      <td>1</td>\n",
       "      <td>187</td>\n",
       "      <td>0</td>\n",
       "      <td>3.5</td>\n",
       "      <td>0</td>\n",
       "      <td>0</td>\n",
       "      <td>2</td>\n",
       "      <td>1</td>\n",
       "    </tr>\n",
       "    <tr>\n",
       "      <th>2</th>\n",
       "      <td>41</td>\n",
       "      <td>0</td>\n",
       "      <td>1</td>\n",
       "      <td>130</td>\n",
       "      <td>204</td>\n",
       "      <td>0</td>\n",
       "      <td>0</td>\n",
       "      <td>172</td>\n",
       "      <td>0</td>\n",
       "      <td>1.4</td>\n",
       "      <td>2</td>\n",
       "      <td>0</td>\n",
       "      <td>2</td>\n",
       "      <td>1</td>\n",
       "    </tr>\n",
       "    <tr>\n",
       "      <th>3</th>\n",
       "      <td>56</td>\n",
       "      <td>1</td>\n",
       "      <td>1</td>\n",
       "      <td>120</td>\n",
       "      <td>236</td>\n",
       "      <td>0</td>\n",
       "      <td>1</td>\n",
       "      <td>178</td>\n",
       "      <td>0</td>\n",
       "      <td>0.8</td>\n",
       "      <td>2</td>\n",
       "      <td>0</td>\n",
       "      <td>2</td>\n",
       "      <td>1</td>\n",
       "    </tr>\n",
       "    <tr>\n",
       "      <th>4</th>\n",
       "      <td>57</td>\n",
       "      <td>0</td>\n",
       "      <td>0</td>\n",
       "      <td>120</td>\n",
       "      <td>354</td>\n",
       "      <td>0</td>\n",
       "      <td>1</td>\n",
       "      <td>163</td>\n",
       "      <td>1</td>\n",
       "      <td>0.6</td>\n",
       "      <td>2</td>\n",
       "      <td>0</td>\n",
       "      <td>2</td>\n",
       "      <td>1</td>\n",
       "    </tr>\n",
       "  </tbody>\n",
       "</table>\n",
       "</div>"
      ],
      "text/plain": [
       "   age  sex  cp  trestbps  chol  fbs  restecg  thalach  exang  oldpeak  slope  \\\n",
       "0   63    1   3       145   233    1        0      150      0      2.3      0   \n",
       "1   37    1   2       130   250    0        1      187      0      3.5      0   \n",
       "2   41    0   1       130   204    0        0      172      0      1.4      2   \n",
       "3   56    1   1       120   236    0        1      178      0      0.8      2   \n",
       "4   57    0   0       120   354    0        1      163      1      0.6      2   \n",
       "\n",
       "   ca  thal  target  \n",
       "0   0     1       1  \n",
       "1   0     2       1  \n",
       "2   0     2       1  \n",
       "3   0     2       1  \n",
       "4   0     2       1  "
      ]
     },
     "execution_count": 19,
     "metadata": {},
     "output_type": "execute_result"
    }
   ],
   "source": [
    "#Retake a look at the dataset\n",
    "df.head()"
   ]
  },
  {
   "cell_type": "markdown",
   "id": "a16a694a-4907-4d18-a213-24633c4e0c6f",
   "metadata": {},
   "source": [
    "To build our model, we need to separate the **target variable** from the **features**.  \n",
    "\n",
    "**Data Splitting Approach**  \n",
    "- **X (Features):** All variables **except** the target variable.  \n",
    "- **y (Target):** The target variable, extracted as a NumPy array for compatibility with machine learning models.  \n",
    "\n",
    "This step ensures that our model learns patterns from the **independent variables (features)** while predicting the **dependent variable (target: heart disease presence)**\n"
   ]
  },
  {
   "cell_type": "code",
   "execution_count": 20,
   "id": "ca99dd8c-428c-4624-bcce-1909a55f92a1",
   "metadata": {},
   "outputs": [],
   "source": [
    "#Splitting the data into features(X) and label(y)\n",
    "\n",
    "#Take everything except the target variable in X\n",
    "X = df.drop(\"target\",axis=1)\n",
    "\n",
    "#Only take the target variable in y\n",
    "y = df.target.to_numpy()"
   ]
  },
  {
   "cell_type": "markdown",
   "id": "0859d774-6ce6-463f-a8d8-c1f3c242c9c1",
   "metadata": {},
   "source": [
    "<br>\n",
    "checking the new variables in X and y"
   ]
  },
  {
   "cell_type": "code",
   "execution_count": 21,
   "id": "b2fb49d1-4fe1-48bd-be20-20f17f7ef466",
   "metadata": {},
   "outputs": [
    {
     "data": {
      "text/html": [
       "<div>\n",
       "<style scoped>\n",
       "    .dataframe tbody tr th:only-of-type {\n",
       "        vertical-align: middle;\n",
       "    }\n",
       "\n",
       "    .dataframe tbody tr th {\n",
       "        vertical-align: top;\n",
       "    }\n",
       "\n",
       "    .dataframe thead th {\n",
       "        text-align: right;\n",
       "    }\n",
       "</style>\n",
       "<table border=\"1\" class=\"dataframe\">\n",
       "  <thead>\n",
       "    <tr style=\"text-align: right;\">\n",
       "      <th></th>\n",
       "      <th>age</th>\n",
       "      <th>sex</th>\n",
       "      <th>cp</th>\n",
       "      <th>trestbps</th>\n",
       "      <th>chol</th>\n",
       "      <th>fbs</th>\n",
       "      <th>restecg</th>\n",
       "      <th>thalach</th>\n",
       "      <th>exang</th>\n",
       "      <th>oldpeak</th>\n",
       "      <th>slope</th>\n",
       "      <th>ca</th>\n",
       "      <th>thal</th>\n",
       "    </tr>\n",
       "  </thead>\n",
       "  <tbody>\n",
       "    <tr>\n",
       "      <th>0</th>\n",
       "      <td>63</td>\n",
       "      <td>1</td>\n",
       "      <td>3</td>\n",
       "      <td>145</td>\n",
       "      <td>233</td>\n",
       "      <td>1</td>\n",
       "      <td>0</td>\n",
       "      <td>150</td>\n",
       "      <td>0</td>\n",
       "      <td>2.3</td>\n",
       "      <td>0</td>\n",
       "      <td>0</td>\n",
       "      <td>1</td>\n",
       "    </tr>\n",
       "    <tr>\n",
       "      <th>1</th>\n",
       "      <td>37</td>\n",
       "      <td>1</td>\n",
       "      <td>2</td>\n",
       "      <td>130</td>\n",
       "      <td>250</td>\n",
       "      <td>0</td>\n",
       "      <td>1</td>\n",
       "      <td>187</td>\n",
       "      <td>0</td>\n",
       "      <td>3.5</td>\n",
       "      <td>0</td>\n",
       "      <td>0</td>\n",
       "      <td>2</td>\n",
       "    </tr>\n",
       "    <tr>\n",
       "      <th>2</th>\n",
       "      <td>41</td>\n",
       "      <td>0</td>\n",
       "      <td>1</td>\n",
       "      <td>130</td>\n",
       "      <td>204</td>\n",
       "      <td>0</td>\n",
       "      <td>0</td>\n",
       "      <td>172</td>\n",
       "      <td>0</td>\n",
       "      <td>1.4</td>\n",
       "      <td>2</td>\n",
       "      <td>0</td>\n",
       "      <td>2</td>\n",
       "    </tr>\n",
       "    <tr>\n",
       "      <th>3</th>\n",
       "      <td>56</td>\n",
       "      <td>1</td>\n",
       "      <td>1</td>\n",
       "      <td>120</td>\n",
       "      <td>236</td>\n",
       "      <td>0</td>\n",
       "      <td>1</td>\n",
       "      <td>178</td>\n",
       "      <td>0</td>\n",
       "      <td>0.8</td>\n",
       "      <td>2</td>\n",
       "      <td>0</td>\n",
       "      <td>2</td>\n",
       "    </tr>\n",
       "    <tr>\n",
       "      <th>4</th>\n",
       "      <td>57</td>\n",
       "      <td>0</td>\n",
       "      <td>0</td>\n",
       "      <td>120</td>\n",
       "      <td>354</td>\n",
       "      <td>0</td>\n",
       "      <td>1</td>\n",
       "      <td>163</td>\n",
       "      <td>1</td>\n",
       "      <td>0.6</td>\n",
       "      <td>2</td>\n",
       "      <td>0</td>\n",
       "      <td>2</td>\n",
       "    </tr>\n",
       "  </tbody>\n",
       "</table>\n",
       "</div>"
      ],
      "text/plain": [
       "   age  sex  cp  trestbps  chol  fbs  restecg  thalach  exang  oldpeak  slope  \\\n",
       "0   63    1   3       145   233    1        0      150      0      2.3      0   \n",
       "1   37    1   2       130   250    0        1      187      0      3.5      0   \n",
       "2   41    0   1       130   204    0        0      172      0      1.4      2   \n",
       "3   56    1   1       120   236    0        1      178      0      0.8      2   \n",
       "4   57    0   0       120   354    0        1      163      1      0.6      2   \n",
       "\n",
       "   ca  thal  \n",
       "0   0     1  \n",
       "1   0     2  \n",
       "2   0     2  \n",
       "3   0     2  \n",
       "4   0     2  "
      ]
     },
     "execution_count": 21,
     "metadata": {},
     "output_type": "execute_result"
    }
   ],
   "source": [
    "# Independent variables (no target column)\n",
    "X.head()"
   ]
  },
  {
   "cell_type": "code",
   "execution_count": 22,
   "id": "2f3c0eee-6a19-4963-8c09-37eda5343f07",
   "metadata": {},
   "outputs": [
    {
     "name": "stdout",
     "output_type": "stream",
     "text": [
      "[1 1 1 1 1 1 1 1 1 1 1 1 1 1 1 1 1 1 1 1 1 1 1 1 1 1 1 1 1 1 1 1 1 1 1 1 1\n",
      " 1 1 1 1 1 1 1 1 1 1 1 1 1 1 1 1 1 1 1 1 1 1 1 1 1 1 1 1 1 1 1 1 1 1 1 1 1\n",
      " 1 1 1 1 1 1 1 1 1 1 1 1 1 1 1 1 1 1 1 1 1 1 1 1 1 1 1 1 1 1 1 1 1 1 1 1 1\n",
      " 1 1 1 1 1 1 1 1 1 1 1 1 1 1 1 1 1 1 1 1 1 1 1 1 1 1 1 1 1 1 1 1 1 1 1 1 1\n",
      " 1 1 1 1 1 1 1 1 1 1 1 1 1 1 1 1 1 0 0 0 0 0 0 0 0 0 0 0 0 0 0 0 0 0 0 0 0\n",
      " 0 0 0 0 0 0 0 0 0 0 0 0 0 0 0 0 0 0 0 0 0 0 0 0 0 0 0 0 0 0 0 0 0 0 0 0 0\n",
      " 0 0 0 0 0 0 0 0 0 0 0 0 0 0 0 0 0 0 0 0 0 0 0 0 0 0 0 0 0 0 0 0 0 0 0 0 0\n",
      " 0 0 0 0 0 0 0 0 0 0 0 0 0 0 0 0 0 0 0 0 0 0 0 0 0 0 0 0 0 0 0 0 0 0 0 0 0\n",
      " 0 0 0 0 0 0 0] <class 'numpy.ndarray'>\n"
     ]
    }
   ],
   "source": [
    "# Targets (in the form of a NumPy array)\n",
    "print(y, type(y))"
   ]
  },
  {
   "cell_type": "markdown",
   "id": "f041f48d-6826-4b4e-8453-7db476744838",
   "metadata": {},
   "source": [
    "### 5.1 Creating a Training and Test Split  \n",
    "\n",
    "One of the most important steps in machine learning is **splitting the data** into a **training set** and a **test set**.  \n",
    "\n",
    "**Why Split the Data?**  \n",
    "- The **training set** is used to teach the model to recognize patterns.  \n",
    "- The **test set** is used to evaluate how well the model generalizes to unseen data.  \n",
    "- Ensuring that the test data is completely separate from training data helps assess real-world performance.  \n",
    "\n",
    "**Typical Split Ratios**  \n",
    "- **Training set (70-80%)** → The model learns from this data.  \n",
    "- **Test set (20-30%)** → The model is evaluated on unseen data.\n",
    "\n",
    "Splitting the data correctly ensures our model is evaluated fairly and can generalize to new data when deployed."
   ]
  },
  {
   "cell_type": "code",
   "execution_count": 23,
   "id": "13091e1e-abec-4c4c-9218-86ed3e65ac6c",
   "metadata": {},
   "outputs": [],
   "source": [
    "# Random seed for reproducibility (since train_test_split is random by default, setting the seed will create reproducible splits). Which will help with consistency in results\n",
    "np.random.seed(42)\n",
    "\n",
    "X_train,X_test,y_train,y_test = train_test_split(X, #The features data\n",
    "                                                 y, #The target data\n",
    "                                                 test_size = 0.2) #80% is used for training and 20% is used for testing\n",
    "\n"
   ]
  },
  {
   "cell_type": "markdown",
   "id": "7c5eb9b7-1b80-44b8-8ca5-03d2e4e3998e",
   "metadata": {},
   "source": [
    "Examining the training data"
   ]
  },
  {
   "cell_type": "code",
   "execution_count": 24,
   "id": "62571221-9621-49ea-b5b5-08f3e7185dee",
   "metadata": {},
   "outputs": [
    {
     "data": {
      "text/html": [
       "<div>\n",
       "<style scoped>\n",
       "    .dataframe tbody tr th:only-of-type {\n",
       "        vertical-align: middle;\n",
       "    }\n",
       "\n",
       "    .dataframe tbody tr th {\n",
       "        vertical-align: top;\n",
       "    }\n",
       "\n",
       "    .dataframe thead th {\n",
       "        text-align: right;\n",
       "    }\n",
       "</style>\n",
       "<table border=\"1\" class=\"dataframe\">\n",
       "  <thead>\n",
       "    <tr style=\"text-align: right;\">\n",
       "      <th></th>\n",
       "      <th>age</th>\n",
       "      <th>sex</th>\n",
       "      <th>cp</th>\n",
       "      <th>trestbps</th>\n",
       "      <th>chol</th>\n",
       "      <th>fbs</th>\n",
       "      <th>restecg</th>\n",
       "      <th>thalach</th>\n",
       "      <th>exang</th>\n",
       "      <th>oldpeak</th>\n",
       "      <th>slope</th>\n",
       "      <th>ca</th>\n",
       "      <th>thal</th>\n",
       "    </tr>\n",
       "  </thead>\n",
       "  <tbody>\n",
       "    <tr>\n",
       "      <th>132</th>\n",
       "      <td>42</td>\n",
       "      <td>1</td>\n",
       "      <td>1</td>\n",
       "      <td>120</td>\n",
       "      <td>295</td>\n",
       "      <td>0</td>\n",
       "      <td>1</td>\n",
       "      <td>162</td>\n",
       "      <td>0</td>\n",
       "      <td>0.0</td>\n",
       "      <td>2</td>\n",
       "      <td>0</td>\n",
       "      <td>2</td>\n",
       "    </tr>\n",
       "    <tr>\n",
       "      <th>202</th>\n",
       "      <td>58</td>\n",
       "      <td>1</td>\n",
       "      <td>0</td>\n",
       "      <td>150</td>\n",
       "      <td>270</td>\n",
       "      <td>0</td>\n",
       "      <td>0</td>\n",
       "      <td>111</td>\n",
       "      <td>1</td>\n",
       "      <td>0.8</td>\n",
       "      <td>2</td>\n",
       "      <td>0</td>\n",
       "      <td>3</td>\n",
       "    </tr>\n",
       "    <tr>\n",
       "      <th>196</th>\n",
       "      <td>46</td>\n",
       "      <td>1</td>\n",
       "      <td>2</td>\n",
       "      <td>150</td>\n",
       "      <td>231</td>\n",
       "      <td>0</td>\n",
       "      <td>1</td>\n",
       "      <td>147</td>\n",
       "      <td>0</td>\n",
       "      <td>3.6</td>\n",
       "      <td>1</td>\n",
       "      <td>0</td>\n",
       "      <td>2</td>\n",
       "    </tr>\n",
       "    <tr>\n",
       "      <th>75</th>\n",
       "      <td>55</td>\n",
       "      <td>0</td>\n",
       "      <td>1</td>\n",
       "      <td>135</td>\n",
       "      <td>250</td>\n",
       "      <td>0</td>\n",
       "      <td>0</td>\n",
       "      <td>161</td>\n",
       "      <td>0</td>\n",
       "      <td>1.4</td>\n",
       "      <td>1</td>\n",
       "      <td>0</td>\n",
       "      <td>2</td>\n",
       "    </tr>\n",
       "    <tr>\n",
       "      <th>176</th>\n",
       "      <td>60</td>\n",
       "      <td>1</td>\n",
       "      <td>0</td>\n",
       "      <td>117</td>\n",
       "      <td>230</td>\n",
       "      <td>1</td>\n",
       "      <td>1</td>\n",
       "      <td>160</td>\n",
       "      <td>1</td>\n",
       "      <td>1.4</td>\n",
       "      <td>2</td>\n",
       "      <td>2</td>\n",
       "      <td>3</td>\n",
       "    </tr>\n",
       "  </tbody>\n",
       "</table>\n",
       "</div>"
      ],
      "text/plain": [
       "     age  sex  cp  trestbps  chol  fbs  restecg  thalach  exang  oldpeak  \\\n",
       "132   42    1   1       120   295    0        1      162      0      0.0   \n",
       "202   58    1   0       150   270    0        0      111      1      0.8   \n",
       "196   46    1   2       150   231    0        1      147      0      3.6   \n",
       "75    55    0   1       135   250    0        0      161      0      1.4   \n",
       "176   60    1   0       117   230    1        1      160      1      1.4   \n",
       "\n",
       "     slope  ca  thal  \n",
       "132      2   0     2  \n",
       "202      2   0     3  \n",
       "196      1   0     2  \n",
       "75       1   0     2  \n",
       "176      2   2     3  "
      ]
     },
     "execution_count": 24,
     "metadata": {},
     "output_type": "execute_result"
    }
   ],
   "source": [
    "X_train.head()"
   ]
  },
  {
   "cell_type": "code",
   "execution_count": 25,
   "id": "b4755645-9b93-49ec-aa7f-3435a994534e",
   "metadata": {},
   "outputs": [
    {
     "name": "stdout",
     "output_type": "stream",
     "text": [
      "[1 0 0 1 0 1 1 1 0 1 1 0 1 0 1 0 0 0 1 1 0 1 1 1 0 0 1 1 1 1 1 1 1 1 1 1 1\n",
      " 1 0 1 1 1 0 0 1 1 1 1 0 1 0 0 1 0 1 0 1 1 0 0 0 0 0 0 0 1 0 0 0 1 1 0 0 1\n",
      " 1 0 1 0 0 0 0 0 1 1 1 0 1 0 0 1 1 1 1 0 1 1 0 1 0 0 1 0 1 0 1 1 1 1 1 0 1\n",
      " 0 1 1 0 0 1 1 0 1 1 0 1 0 1 0 0 1 0 1 0 1 1 1 1 0 0 0 1 0 0 0 1 0 1 1 1 0\n",
      " 1 0 0 1 1 1 1 0 1 1 0 1 1 0 1 1 1 0 0 1 1 0 1 1 0 0 1 0 0 0 0 1 1 1 0 0 0\n",
      " 0 1 1 0 1 0 0 0 1 1 1 1 1 1 0 1 1 1 0 0 1 1 0 0 1 0 0 1 1 0 0 0 0 0 1 1 0\n",
      " 0 1 1 0 0 0 1 1 1 1 1 0 1 0 1 0 1 1 0 1] 242\n",
      "\n",
      "We are using 242 samples to train our model\n"
     ]
    }
   ],
   "source": [
    "print(y_train, len(y_train))\n",
    "print()\n",
    "print(f'We are using {len(y_train)} samples to train our model')"
   ]
  },
  {
   "cell_type": "markdown",
   "id": "09fb490e-690e-46a2-b635-6e0e8f880517",
   "metadata": {},
   "source": [
    "<br>\n",
    "Examining the test data"
   ]
  },
  {
   "cell_type": "code",
   "execution_count": 26,
   "id": "45e92b40-96b1-4cbe-9305-e28f15ce2646",
   "metadata": {},
   "outputs": [
    {
     "data": {
      "text/html": [
       "<div>\n",
       "<style scoped>\n",
       "    .dataframe tbody tr th:only-of-type {\n",
       "        vertical-align: middle;\n",
       "    }\n",
       "\n",
       "    .dataframe tbody tr th {\n",
       "        vertical-align: top;\n",
       "    }\n",
       "\n",
       "    .dataframe thead th {\n",
       "        text-align: right;\n",
       "    }\n",
       "</style>\n",
       "<table border=\"1\" class=\"dataframe\">\n",
       "  <thead>\n",
       "    <tr style=\"text-align: right;\">\n",
       "      <th></th>\n",
       "      <th>age</th>\n",
       "      <th>sex</th>\n",
       "      <th>cp</th>\n",
       "      <th>trestbps</th>\n",
       "      <th>chol</th>\n",
       "      <th>fbs</th>\n",
       "      <th>restecg</th>\n",
       "      <th>thalach</th>\n",
       "      <th>exang</th>\n",
       "      <th>oldpeak</th>\n",
       "      <th>slope</th>\n",
       "      <th>ca</th>\n",
       "      <th>thal</th>\n",
       "    </tr>\n",
       "  </thead>\n",
       "  <tbody>\n",
       "    <tr>\n",
       "      <th>179</th>\n",
       "      <td>57</td>\n",
       "      <td>1</td>\n",
       "      <td>0</td>\n",
       "      <td>150</td>\n",
       "      <td>276</td>\n",
       "      <td>0</td>\n",
       "      <td>0</td>\n",
       "      <td>112</td>\n",
       "      <td>1</td>\n",
       "      <td>0.6</td>\n",
       "      <td>1</td>\n",
       "      <td>1</td>\n",
       "      <td>1</td>\n",
       "    </tr>\n",
       "    <tr>\n",
       "      <th>228</th>\n",
       "      <td>59</td>\n",
       "      <td>1</td>\n",
       "      <td>3</td>\n",
       "      <td>170</td>\n",
       "      <td>288</td>\n",
       "      <td>0</td>\n",
       "      <td>0</td>\n",
       "      <td>159</td>\n",
       "      <td>0</td>\n",
       "      <td>0.2</td>\n",
       "      <td>1</td>\n",
       "      <td>0</td>\n",
       "      <td>3</td>\n",
       "    </tr>\n",
       "    <tr>\n",
       "      <th>111</th>\n",
       "      <td>57</td>\n",
       "      <td>1</td>\n",
       "      <td>2</td>\n",
       "      <td>150</td>\n",
       "      <td>126</td>\n",
       "      <td>1</td>\n",
       "      <td>1</td>\n",
       "      <td>173</td>\n",
       "      <td>0</td>\n",
       "      <td>0.2</td>\n",
       "      <td>2</td>\n",
       "      <td>1</td>\n",
       "      <td>3</td>\n",
       "    </tr>\n",
       "    <tr>\n",
       "      <th>246</th>\n",
       "      <td>56</td>\n",
       "      <td>0</td>\n",
       "      <td>0</td>\n",
       "      <td>134</td>\n",
       "      <td>409</td>\n",
       "      <td>0</td>\n",
       "      <td>0</td>\n",
       "      <td>150</td>\n",
       "      <td>1</td>\n",
       "      <td>1.9</td>\n",
       "      <td>1</td>\n",
       "      <td>2</td>\n",
       "      <td>3</td>\n",
       "    </tr>\n",
       "    <tr>\n",
       "      <th>60</th>\n",
       "      <td>71</td>\n",
       "      <td>0</td>\n",
       "      <td>2</td>\n",
       "      <td>110</td>\n",
       "      <td>265</td>\n",
       "      <td>1</td>\n",
       "      <td>0</td>\n",
       "      <td>130</td>\n",
       "      <td>0</td>\n",
       "      <td>0.0</td>\n",
       "      <td>2</td>\n",
       "      <td>1</td>\n",
       "      <td>2</td>\n",
       "    </tr>\n",
       "  </tbody>\n",
       "</table>\n",
       "</div>"
      ],
      "text/plain": [
       "     age  sex  cp  trestbps  chol  fbs  restecg  thalach  exang  oldpeak  \\\n",
       "179   57    1   0       150   276    0        0      112      1      0.6   \n",
       "228   59    1   3       170   288    0        0      159      0      0.2   \n",
       "111   57    1   2       150   126    1        1      173      0      0.2   \n",
       "246   56    0   0       134   409    0        0      150      1      1.9   \n",
       "60    71    0   2       110   265    1        0      130      0      0.0   \n",
       "\n",
       "     slope  ca  thal  \n",
       "179      1   1     1  \n",
       "228      1   0     3  \n",
       "111      2   1     3  \n",
       "246      1   2     3  \n",
       "60       2   1     2  "
      ]
     },
     "execution_count": 26,
     "metadata": {},
     "output_type": "execute_result"
    }
   ],
   "source": [
    "X_test.head()"
   ]
  },
  {
   "cell_type": "code",
   "execution_count": 27,
   "id": "481f0e56-ac62-4822-9246-8eca3c119883",
   "metadata": {},
   "outputs": [
    {
     "name": "stdout",
     "output_type": "stream",
     "text": [
      "[0 0 1 0 1 1 1 0 0 1 1 1 1 0 1 1 1 0 0 0 1 0 0 1 1 0 0 1 0 1 1 0 0 1 1 0 1\n",
      " 1 1 1 1 1 1 1 1 0 0 1 0 0 0 0 1 1 0 0 0 1 0 0 0] 61\n",
      "\n",
      "We are using 61 samples to test our model\n"
     ]
    }
   ],
   "source": [
    "print(y_test, len(y_test))\n",
    "print()\n",
    "print(f'We are using {len(y_test)} samples to test our model')"
   ]
  },
  {
   "cell_type": "markdown",
   "id": "beea323d-691d-458d-996f-22368dae94c3",
   "metadata": {},
   "source": [
    "### 5.2 Selecting Machine Learning Models  \n",
    "\n",
    "With our data prepared, we are now ready to train our first models as part of this project.  \n",
    "\n",
    "**Model Selection Approach**  \n",
    "Rather than testing every possible algorithm, we will start by experimenting with a few well-known models and evaluate their performance.  \n",
    "\n",
    "As a first step, we will train and compare the following models:  \n",
    "\n",
    "- **Logistic Regression** (`sklearn.linear_model.LogisticRegression`)  \n",
    "  - A commonly used baseline model for binary classification.  \n",
    "- **K-Nearest Neighbors (KNN)** (`sklearn.neighbors.KNeighborsClassifier`)  \n",
    "  - A distance-based algorithm that predicts a sample’s class based on its nearest neighbors.  \n",
    "- **Random Forest** (`sklearn.ensemble.RandomForestClassifier`)  \n",
    "  - An ensemble learning model that leverages multiple decision trees for improved accuracy."
   ]
  },
  {
   "cell_type": "markdown",
   "id": "934b66b9-13d2-45d7-b916-6ff22e0515a6",
   "metadata": {},
   "source": [
    "**Why These Models?**\n",
    "\n",
    "Since our task is **binary classification**, we follow Scikit-Learn's model selection guidelines and start with:  \n",
    "\n",
    "- **Logistic Regression** – A simple, interpretable baseline.  \n",
    "- **K-Nearest Neighbors (KNN)** – A distance-based method.  \n",
    "- **Random Forest** – A powerful ensemble model.  \n",
    "\n",
    "These models provide a balance of **simplicity, interpretability, and accuracy**, allowing us to establish a baseline before exploring more complex algorithms.\n",
    "\n",
    "Below is the scikit-Learn roadmap that has been utilized for selecting the models.\n",
    "\n",
    "\n"
   ]
  },
  {
   "cell_type": "markdown",
   "id": "badd695a-007c-4920-a3e3-4d8a081c766b",
   "metadata": {},
   "source": [
    "**Consistent API Across Scikit-Learn Models**  \n",
    "\n",
    "Most Scikit-Learn models share a similar API:  \n",
    "- **Training:** `model.fit(X_train, y_train)`  \n",
    "- **Scoring:** `model.score(X_test, y_test)` (returns accuracy for classification models)  \n",
    "\n",
    "Since our chosen models follow this structure, we can store them in a dictionary and create a function to train and evaluate them efficiently.\n"
   ]
  },
  {
   "cell_type": "code",
   "execution_count": 28,
   "id": "fe9713f0-f469-4c9a-9b63-a95bc42ab7ba",
   "metadata": {},
   "outputs": [],
   "source": [
    "# Creating a dictionary to store the various models\n",
    "models = {\n",
    "    \"LogisticRegression\":LogisticRegression(max_iter=1000),#max_iter parameter set to 1000 due to warning\n",
    "    \"KNeighborsClassifier\":KNeighborsClassifier(),\n",
    "    \"RandomForestClassifier\":RandomForestClassifier()\n",
    "}\n",
    "\n",
    "def fit_and_score(models,X_train,X_test,y_train,y_test):\n",
    "    \"\"\"\n",
    "    Fits and evaluates given machine learning models.\n",
    "    models : a dict of different Scikit-Learn machine learning models\n",
    "    X_train : training data\n",
    "    X_test : testing data\n",
    "    y_train : labels assosciated with training data\n",
    "    y_test : labels assosciated with test data\n",
    "    \"\"\"\n",
    "    np.random.seed(42) # for reproducible results\n",
    "    model_scores = {} # dictionary for storing our model scores for later evaluation\n",
    "    \n",
    "    #Create a loop and evaluate each model and store its score\n",
    "    for name,model in models.items(): # for key,value pair in the dictionary models instantiated above\n",
    "        model.fit(X_train,y_train)#training the model\n",
    "        model_scores[name] = model.score(X_test,y_test) # storing the model score in model_scores dict. with the name given in models. as loop runs the model/name changes\n",
    "\n",
    "    return model_scores\n"
   ]
  },
  {
   "cell_type": "code",
   "execution_count": 29,
   "id": "245d43fa-9d0d-4579-bdff-49bd75596b0e",
   "metadata": {},
   "outputs": [
    {
     "name": "stdout",
     "output_type": "stream",
     "text": [
      "LogisticRegression : 0.8688524590163934\n",
      "KNeighborsClassifier : 0.6885245901639344\n",
      "RandomForestClassifier : 0.8360655737704918\n"
     ]
    }
   ],
   "source": [
    "#Calling the model_scores function to evaluate our models\n",
    "model_scores = fit_and_score(models=models,\n",
    "                             X_train = X_train,\n",
    "                             X_test = X_test,\n",
    "                             y_train = y_train,\n",
    "                             y_test = y_test)\n",
    "#printing the scores in model_scores\n",
    "for name,score in model_scores.items():\n",
    "    print(f\"{name} : {score}\")"
   ]
  },
  {
   "cell_type": "markdown",
   "id": "400ad584-055c-480d-9ad1-dddb901a4da4",
   "metadata": {},
   "source": [
    "# 5.3 Comparing the Results of Several Models  \n",
    "\n",
    "Now that we have saved our model scores in a dictionary (`model_scores`), we can compare their performance visually by converting them into a DataFrame and plotting a bar chart."
   ]
  },
  {
   "cell_type": "code",
   "execution_count": 30,
   "id": "640e6866-8e5c-46e3-8608-060c0e75dce1",
   "metadata": {},
   "outputs": [
    {
     "data": {
      "text/html": [
       "<div>\n",
       "<style scoped>\n",
       "    .dataframe tbody tr th:only-of-type {\n",
       "        vertical-align: middle;\n",
       "    }\n",
       "\n",
       "    .dataframe tbody tr th {\n",
       "        vertical-align: top;\n",
       "    }\n",
       "\n",
       "    .dataframe thead th {\n",
       "        text-align: right;\n",
       "    }\n",
       "</style>\n",
       "<table border=\"1\" class=\"dataframe\">\n",
       "  <thead>\n",
       "    <tr style=\"text-align: right;\">\n",
       "      <th></th>\n",
       "      <th>accuracy</th>\n",
       "    </tr>\n",
       "  </thead>\n",
       "  <tbody>\n",
       "    <tr>\n",
       "      <th>LogisticRegression</th>\n",
       "      <td>0.868852</td>\n",
       "    </tr>\n",
       "    <tr>\n",
       "      <th>KNeighborsClassifier</th>\n",
       "      <td>0.688525</td>\n",
       "    </tr>\n",
       "    <tr>\n",
       "      <th>RandomForestClassifier</th>\n",
       "      <td>0.836066</td>\n",
       "    </tr>\n",
       "  </tbody>\n",
       "</table>\n",
       "</div>"
      ],
      "text/plain": [
       "                        accuracy\n",
       "LogisticRegression      0.868852\n",
       "KNeighborsClassifier    0.688525\n",
       "RandomForestClassifier  0.836066"
      ]
     },
     "execution_count": 30,
     "metadata": {},
     "output_type": "execute_result"
    }
   ],
   "source": [
    "model_compare = pd.DataFrame(model_scores,index=[\"accuracy\"])#as the models default scoring is accuracy we give accuracy\n",
    "model_compare.T"
   ]
  },
  {
   "cell_type": "code",
   "execution_count": 31,
   "id": "35b025f2-dfa9-45f3-b7ee-bf9914ed7233",
   "metadata": {},
   "outputs": [
    {
     "data": {
      "image/png": "[encoded data removed]",
      "text/plain": [
       "<Figure size 640x480 with 1 Axes>"
      ]
     },
     "metadata": {},
     "output_type": "display_data"
    }
   ],
   "source": [
    "#using pandas to plot plot the data visually\n",
    "model_compare.T.plot(kind=\"bar\")\n",
    "plt.xticks(rotation=0)\n",
    "plt.show()"
   ]
  },
  {
   "cell_type": "code",
   "execution_count": 32,
   "id": "b5eed7ee-7d1b-43f5-8d69-fa2d68018efc",
   "metadata": {},
   "outputs": [
    {
     "data": {
      "image/png": "[encoded data removed]",
      "text/plain": [
       "<Figure size 1000x600 with 1 Axes>"
      ]
     },
     "metadata": {},
     "output_type": "display_data"
    }
   ],
   "source": [
    "#Visual representation using matplotlib for better comprehension\n",
    "\n",
    "plt.figure(figsize=(10,6)) #setting the plotting function\n",
    "\n",
    "plt.bar(model_compare.T.index,model_compare.T[\"accuracy\"],color = [\"salmon\",\"yellow\",\"purple\"])\n",
    "\n",
    "#set the labels title legend and axes\n",
    "plt.title(\"Comparision of accuracies amongst different models\")\n",
    "plt.ylabel(\"accuracy\",fontsize=12)\n",
    "plt.xticks(rotation = 0)\n",
    "\n",
    "plt.show()"
   ]
  },
  {
   "cell_type": "markdown",
   "id": "dc1167a9-887b-436b-bad5-5440dd101cbd",
   "metadata": {},
   "source": [
    "## 5.4 Presenting Our Best Model & Key ML Concepts  \n",
    "\n",
    "Before finalizing our best model, let's understand a few important machine learning terms that will help improve our model performance and evaluation.\n",
    "\n",
    "**Key Concepts in Model Evaluation & Optimization**  \n",
    "\n",
    "| **Term**                  | **Definition** |\n",
    "|---------------------------|--------------|\n",
    "| **Hyperparameter Tuning** | Adjusting model settings (hyperparameters) to improve performance. Helps optimize accuracy, recall, precision, etc. |\n",
    "| **Feature Importance**    | Determines which features (variables) contribute most to predictions. Helps in feature selection. |\n",
    "| **Confusion Matrix**      | A table comparing predicted vs. actual values. If predictions are perfect, values align diagonally (top-left to bottom-right). |\n",
    "| **Cross-Validation**      | Splits data into multiple train-test sets to ensure model evaluation is robust and not dependent on a single data split. |\n",
    "| **Precision**            | Measures the proportion of true positives over total predicted positives. Higher precision means fewer false positives. |\n",
    "| **Recall**               | Measures the proportion of true positives over all actual positives. Higher recall means fewer false negatives. |\n",
    "| **F1 Score**             | The harmonic mean of precision and recall. Balances both metrics into one score (1 = best, 0 = worst). |\n",
    "| **Classification Report** | A built-in `sklearn` function that summarizes key classification metrics like precision, recall, and F1-score. |\n",
    "| **ROC Curve**            | A plot showing the trade-off between true positive rate and false positive rate. A perfect model follows the left and top border. |\n",
    "| **Area Under Curve (AUC)** | Measures the area under the ROC curve. A score of 1.0 means a perfect model. |\n",
    "\n",
    "---\n",
    "**Next Steps**  \n",
    "We'll explore these concepts further as we refine our model and evaluate its performance.  "
   ]
  },
  {
   "cell_type": "markdown",
   "id": "8318659b-2ade-4d30-84c0-133d89567f68",
   "metadata": {},
   "source": [
    "## **6. Hyperparameter Tuning and Cross-Validation**  \n",
    "\n",
    "Machine learning models, like recipes, can perform differently based on their settings (hyperparameters). Adjusting these settings can improve performance but may also lead to overfitting if tuned too aggressively. Our goal is to find a balanced model that performs well on both training and unseen data.\n",
    "\n",
    "**Why Cross-Validation?**  \n",
    "Instead of relying on a single train-test split, we use **k-fold cross-validation**, which:\n",
    "- Splits the data into **k different subsets (folds)**.\n",
    "- Trains and tests the model on each fold.\n",
    "- Averages the results to get a more robust performance estimate.\n",
    "\n",
    "This prevents **bias from a single data split** and ensures the model generalizes well.\n",
    "\n",
    "### **Project Plan:**  \n",
    "1. **Tune hyperparameters** to find the best model settings.  \n",
    "2. **Perform cross-validation** for more reliable evaluation.  \n",
    "3. **Plot ROC curves** to visualize model performance.  \n",
    "4. **Create a confusion matrix** to analyze predictions.  \n",
    "5. **Calculate precision, recall, and F1-score** for better evaluation.  \n",
    "6. **Identify important features** influencing predictions.  \n",
    "\n",
    "By following this structured approach, we ensure that our final model is both **optimized and generalizable**.  \n"
   ]
  },
  {
   "cell_type": "markdown",
   "id": "4345835d-7fd8-4d6e-8dd2-509d8777cc49",
   "metadata": {},
   "source": [
    "### 6.1 Tuning `KNeighborsClassifier` (KNN)  \n",
    "\n",
    "The **K-Nearest Neighbors (KNN)** algorithm classifies a sample based on its closest neighbors. The key hyperparameter **`n_neighbors`** controls how many neighbors are considered for classification.  \n",
    "\n",
    "**Why Tune `n_neighbors`?**  \n",
    "- The default is **`n_neighbors=5`**, but adjusting this can improve accuracy.  \n",
    "- **Too low** → Model may be too sensitive (overfitting).  \n",
    "- **Too high** → Model may generalize too much (underfitting).  \n",
    "\n",
    "**Next Steps:**  \n",
    "- Test different values of **`n_neighbors`**.  \n",
    "- Compare accuracy to find the best setting.  \n"
   ]
  },
  {
   "cell_type": "code",
   "execution_count": 33,
   "id": "7da75a1b-f7a3-4389-b060-6f7e7130fe55",
   "metadata": {},
   "outputs": [],
   "source": [
    "#Create a list of train scores\n",
    "train_scores = []\n",
    "\n",
    "#Create a list of test scores\n",
    "test_scores = []\n",
    "\n",
    "#Create a list for neighbors parameters, default is 5\n",
    "neighbors = range(1,21)\n",
    "\n",
    "#instantiate the KNN model\n",
    "KNN = KNeighborsClassifier()\n",
    "\n",
    "#create a loop to fit the neighbors values to the model\n",
    "\n",
    "for i in neighbors:\n",
    "    KNN.set_params(n_neighbors=i)\n",
    "\n",
    "    KNN.fit(X_train,y_train)#fitting the model with the train_values\n",
    "    \n",
    "    train_scores.append(KNN.score(X_train,y_train))\n",
    "    test_scores.append(KNN.score(X_test,y_test))\n",
    "\n"
   ]
  },
  {
   "cell_type": "code",
   "execution_count": 34,
   "id": "ab37a17a-bc24-438b-a539-13082d70425c",
   "metadata": {},
   "outputs": [
    {
     "data": {
      "text/plain": [
       "[1.0,\n",
       " 0.8099173553719008,\n",
       " 0.7727272727272727,\n",
       " 0.743801652892562,\n",
       " 0.7603305785123967,\n",
       " 0.7520661157024794,\n",
       " 0.743801652892562,\n",
       " 0.7231404958677686,\n",
       " 0.71900826446281,\n",
       " 0.6942148760330579,\n",
       " 0.7272727272727273,\n",
       " 0.6983471074380165,\n",
       " 0.6900826446280992,\n",
       " 0.6942148760330579,\n",
       " 0.6859504132231405,\n",
       " 0.6735537190082644,\n",
       " 0.6859504132231405,\n",
       " 0.6652892561983471,\n",
       " 0.6818181818181818,\n",
       " 0.6694214876033058]"
      ]
     },
     "execution_count": 34,
     "metadata": {},
     "output_type": "execute_result"
    }
   ],
   "source": [
    "#checking the values for train scores\n",
    "train_scores"
   ]
  },
  {
   "cell_type": "code",
   "execution_count": 35,
   "id": "7e2da56e-895f-4956-a037-1f5f8a109093",
   "metadata": {},
   "outputs": [
    {
     "data": {
      "text/plain": [
       "[0.6229508196721312,\n",
       " 0.639344262295082,\n",
       " 0.6557377049180327,\n",
       " 0.6721311475409836,\n",
       " 0.6885245901639344,\n",
       " 0.7213114754098361,\n",
       " 0.7049180327868853,\n",
       " 0.6885245901639344,\n",
       " 0.6885245901639344,\n",
       " 0.7049180327868853,\n",
       " 0.7540983606557377,\n",
       " 0.7377049180327869,\n",
       " 0.7377049180327869,\n",
       " 0.7377049180327869,\n",
       " 0.6885245901639344,\n",
       " 0.7213114754098361,\n",
       " 0.6885245901639344,\n",
       " 0.6885245901639344,\n",
       " 0.7049180327868853,\n",
       " 0.6557377049180327]"
      ]
     },
     "execution_count": 35,
     "metadata": {},
     "output_type": "execute_result"
    }
   ],
   "source": [
    "#checking the values for test scores\n",
    "test_scores"
   ]
  },
  {
   "cell_type": "code",
   "execution_count": 36,
   "id": "1108ca1f-2efd-4859-aeee-3dc699288f91",
   "metadata": {},
   "outputs": [
    {
     "data": {
      "image/png": "[encoded data removed]",
      "text/plain": [
       "<Figure size 1000x600 with 1 Axes>"
      ]
     },
     "metadata": {},
     "output_type": "display_data"
    },
    {
     "name": "stdout",
     "output_type": "stream",
     "text": [
      "The maximum accuracy for the KNN model is : 75.41%, Max number of neighbors : 11\n"
     ]
    }
   ],
   "source": [
    "plt.figure(figsize=(10,6))\n",
    "#plt.plot() by default plots a line plot\n",
    "plt.plot(neighbors, train_scores, label=\"Train Score\")\n",
    "plt.plot(neighbors, test_scores, label=\"Test Score\")\n",
    "\n",
    "#setting the title and labels\n",
    "plt.title(\"Comparing the train and test scores\")\n",
    "plt.legend()\n",
    "plt.xticks(np.arange(1,21,1))\n",
    "plt.xlabel(\"Number of neighbors\")\n",
    "plt.ylabel(\"Accuracy\")\n",
    "\n",
    "plt.show()\n",
    "\n",
    "#printing the maximum score value\n",
    "print(f\"The maximum accuracy for the KNN model is : {max(test_scores)*100:.2f}%, Max number of neighbors : {test_scores.index(max(test_scores))+1}\")"
   ]
  },
  {
   "cell_type": "markdown",
   "id": "f0c5ef1a-f62a-4e63-8841-798f45318bad",
   "metadata": {},
   "source": [
    "From our graph, **`n_neighbors=11`** gave the best performance for KNN.  \n",
    "However, KNN still underperformed compared to **Logistic Regression** and **Random Forest**.  \n",
    "\n",
    "**Next Steps: Hyperparameter Tuning**  \n",
    "Instead of manually tuning, we'll use **`RandomizedSearchCV`** to:  \n",
    "- Automatically test multiple hyperparameter combinations.  \n",
    "- Evaluate and select the best-performing settings.  \n",
    "\n",
    "We'll now apply this to Logistic Regression and Random Forest to optimize their performance.  \n"
   ]
  },
  {
   "cell_type": "markdown",
   "id": "e7572e0f-aa04-4f97-8b80-79f00a6583b0",
   "metadata": {},
   "source": [
    "### 6.2 Tuning Models with `RandomizedSearchCV`  \n",
    "\n",
    "Both **Logistic Regression** and **Random Forest** have multiple hyperparameters that can be tuned to improve performance.  \n",
    "\n",
    "**Approach**  \n",
    "1. Define a hyperparameter grid (a dictionary of hyperparameters).  \n",
    "2. Use **`RandomizedSearchCV`** to test different combinations.  \n",
    "3. Identify the best hyperparameters for each model.  \n",
    "\n",
    "> **Note:** Ensure hyperparameter dictionary keys match the exact parameter names in Scikit-Learn to avoid errors.  \n",
    "\n",
    "We'll now set up and run the tuning process. \n"
   ]
  },
  {
   "cell_type": "code",
   "execution_count": 37,
   "id": "931b0965-3168-434c-b7a1-18bedac150e0",
   "metadata": {},
   "outputs": [],
   "source": [
    "#Creating a hyperparameter grid for logistic regression\n",
    "log_reg_grid = {\"C\":np.logspace(-4,4,20), #C is like a control parameter that tells how much the model should learn from the training data.\n",
    "                                        #Small C means dont learn too much , large C means its like byhearting the training data\n",
    "               \"solver\":[\"liblinear\"]}\n",
    "\n",
    "#Creating a hyperparameter grid for RandomForest\n",
    "rf_grid = {\"n_estimators\":np.arange(10,1000,50),\n",
    "           \"max_depth\": [None, 3,5,10],\n",
    "           \"min_samples_split\": np.arange(2,20,2),\n",
    "           \"min_samples_leaf\": np.arange(1,20,2)\n",
    "          }\n"
   ]
  },
  {
   "cell_type": "code",
   "execution_count": 38,
   "id": "470ba919-694a-4ba1-b988-c004166c9614",
   "metadata": {},
   "outputs": [
    {
     "name": "stdout",
     "output_type": "stream",
     "text": [
      "Fitting 5 folds for each of 20 candidates, totalling 100 fits\n",
      "CPU times: user 371 ms, sys: 5.48 ms, total: 376 ms\n",
      "Wall time: 128 ms\n"
     ]
    },
    {
     "data": {
      "text/html": [
       "<style>#sk-container-id-1 {color: black;background-color: white;}#sk-container-id-1 pre{padding: 0;}#sk-container-id-1 div.sk-toggleable {background-color: white;}#sk-container-id-1 label.sk-toggleable__label {cursor: pointer;display: block;width: 100%;margin-bottom: 0;padding: 0.3em;box-sizing: border-box;text-align: center;}#sk-container-id-1 label.sk-toggleable__label-arrow:before {content: \"▸\";float: left;margin-right: 0.25em;color: #696969;}#sk-container-id-1 label.sk-toggleable__label-arrow:hover:before {color: black;}#sk-container-id-1 div.sk-estimator:hover label.sk-toggleable__label-arrow:before {color: black;}#sk-container-id-1 div.sk-toggleable__content {max-height: 0;max-width: 0;overflow: hidden;text-align: left;background-color: #f0f8ff;}#sk-container-id-1 div.sk-toggleable__content pre {margin: 0.2em;color: black;border-radius: 0.25em;background-color: #f0f8ff;}#sk-container-id-1 input.sk-toggleable__control:checked~div.sk-toggleable__content {max-height: 200px;max-width: 100%;overflow: auto;}#sk-container-id-1 input.sk-toggleable__control:checked~label.sk-toggleable__label-arrow:before {content: \"▾\";}#sk-container-id-1 div.sk-estimator input.sk-toggleable__control:checked~label.sk-toggleable__label {background-color: #d4ebff;}#sk-container-id-1 div.sk-label input.sk-toggleable__control:checked~label.sk-toggleable__label {background-color: #d4ebff;}#sk-container-id-1 input.sk-hidden--visually {border: 0;clip: rect(1px 1px 1px 1px);clip: rect(1px, 1px, 1px, 1px);height: 1px;margin: -1px;overflow: hidden;padding: 0;position: absolute;width: 1px;}#sk-container-id-1 div.sk-estimator {font-family: monospace;background-color: #f0f8ff;border: 1px dotted black;border-radius: 0.25em;box-sizing: border-box;margin-bottom: 0.5em;}#sk-container-id-1 div.sk-estimator:hover {background-color: #d4ebff;}#sk-container-id-1 div.sk-parallel-item::after {content: \"\";width: 100%;border-bottom: 1px solid gray;flex-grow: 1;}#sk-container-id-1 div.sk-label:hover label.sk-toggleable__label {background-color: #d4ebff;}#sk-container-id-1 div.sk-serial::before {content: \"\";position: absolute;border-left: 1px solid gray;box-sizing: border-box;top: 0;bottom: 0;left: 50%;z-index: 0;}#sk-container-id-1 div.sk-serial {display: flex;flex-direction: column;align-items: center;background-color: white;padding-right: 0.2em;padding-left: 0.2em;position: relative;}#sk-container-id-1 div.sk-item {position: relative;z-index: 1;}#sk-container-id-1 div.sk-parallel {display: flex;align-items: stretch;justify-content: center;background-color: white;position: relative;}#sk-container-id-1 div.sk-item::before, #sk-container-id-1 div.sk-parallel-item::before {content: \"\";position: absolute;border-left: 1px solid gray;box-sizing: border-box;top: 0;bottom: 0;left: 50%;z-index: -1;}#sk-container-id-1 div.sk-parallel-item {display: flex;flex-direction: column;z-index: 1;position: relative;background-color: white;}#sk-container-id-1 div.sk-parallel-item:first-child::after {align-self: flex-end;width: 50%;}#sk-container-id-1 div.sk-parallel-item:last-child::after {align-self: flex-start;width: 50%;}#sk-container-id-1 div.sk-parallel-item:only-child::after {width: 0;}#sk-container-id-1 div.sk-dashed-wrapped {border: 1px dashed gray;margin: 0 0.4em 0.5em 0.4em;box-sizing: border-box;padding-bottom: 0.4em;background-color: white;}#sk-container-id-1 div.sk-label label {font-family: monospace;font-weight: bold;display: inline-block;line-height: 1.2em;}#sk-container-id-1 div.sk-label-container {text-align: center;}#sk-container-id-1 div.sk-container {/* jupyter's `normalize.less` sets `[hidden] { display: none; }` but bootstrap.min.css set `[hidden] { display: none !important; }` so we also need the `!important` here to be able to override the default hidden behavior on the sphinx rendered scikit-learn.org. See: https://github.com/scikit-learn/scikit-learn/issues/21755 */display: inline-block !important;position: relative;}#sk-container-id-1 div.sk-text-repr-fallback {display: none;}</style><div id=\"sk-container-id-1\" class=\"sk-top-container\"><div class=\"sk-text-repr-fallback\"><pre>RandomizedSearchCV(cv=5, estimator=LogisticRegression(), n_iter=20,\n",
       "                   param_distributions={&#x27;C&#x27;: array([1.00000000e-04, 2.63665090e-04, 6.95192796e-04, 1.83298071e-03,\n",
       "       4.83293024e-03, 1.27427499e-02, 3.35981829e-02, 8.85866790e-02,\n",
       "       2.33572147e-01, 6.15848211e-01, 1.62377674e+00, 4.28133240e+00,\n",
       "       1.12883789e+01, 2.97635144e+01, 7.84759970e+01, 2.06913808e+02,\n",
       "       5.45559478e+02, 1.43844989e+03, 3.79269019e+03, 1.00000000e+04]),\n",
       "                                        &#x27;solver&#x27;: [&#x27;liblinear&#x27;]},\n",
       "                   verbose=True)</pre><b>In a Jupyter environment, please rerun this cell to show the HTML representation or trust the notebook. <br />On GitHub, the HTML representation is unable to render, please try loading this page with nbviewer.org.</b></div><div class=\"sk-container\" hidden><div class=\"sk-item sk-dashed-wrapped\"><div class=\"sk-label-container\"><div class=\"sk-label sk-toggleable\"><input class=\"sk-toggleable__control sk-hidden--visually\" id=\"sk-estimator-id-1\" type=\"checkbox\" ><label for=\"sk-estimator-id-1\" class=\"sk-toggleable__label sk-toggleable__label-arrow\">RandomizedSearchCV</label><div class=\"sk-toggleable__content\"><pre>RandomizedSearchCV(cv=5, estimator=LogisticRegression(), n_iter=20,\n",
       "                   param_distributions={&#x27;C&#x27;: array([1.00000000e-04, 2.63665090e-04, 6.95192796e-04, 1.83298071e-03,\n",
       "       4.83293024e-03, 1.27427499e-02, 3.35981829e-02, 8.85866790e-02,\n",
       "       2.33572147e-01, 6.15848211e-01, 1.62377674e+00, 4.28133240e+00,\n",
       "       1.12883789e+01, 2.97635144e+01, 7.84759970e+01, 2.06913808e+02,\n",
       "       5.45559478e+02, 1.43844989e+03, 3.79269019e+03, 1.00000000e+04]),\n",
       "                                        &#x27;solver&#x27;: [&#x27;liblinear&#x27;]},\n",
       "                   verbose=True)</pre></div></div></div><div class=\"sk-parallel\"><div class=\"sk-parallel-item\"><div class=\"sk-item\"><div class=\"sk-label-container\"><div class=\"sk-label sk-toggleable\"><input class=\"sk-toggleable__control sk-hidden--visually\" id=\"sk-estimator-id-2\" type=\"checkbox\" ><label for=\"sk-estimator-id-2\" class=\"sk-toggleable__label sk-toggleable__label-arrow\">estimator: LogisticRegression</label><div class=\"sk-toggleable__content\"><pre>LogisticRegression()</pre></div></div></div><div class=\"sk-serial\"><div class=\"sk-item\"><div class=\"sk-estimator sk-toggleable\"><input class=\"sk-toggleable__control sk-hidden--visually\" id=\"sk-estimator-id-3\" type=\"checkbox\" ><label for=\"sk-estimator-id-3\" class=\"sk-toggleable__label sk-toggleable__label-arrow\">LogisticRegression</label><div class=\"sk-toggleable__content\"><pre>LogisticRegression()</pre></div></div></div></div></div></div></div></div></div></div>"
      ],
      "text/plain": [
       "RandomizedSearchCV(cv=5, estimator=LogisticRegression(), n_iter=20,\n",
       "                   param_distributions={'C': array([1.00000000e-04, 2.63665090e-04, 6.95192796e-04, 1.83298071e-03,\n",
       "       4.83293024e-03, 1.27427499e-02, 3.35981829e-02, 8.85866790e-02,\n",
       "       2.33572147e-01, 6.15848211e-01, 1.62377674e+00, 4.28133240e+00,\n",
       "       1.12883789e+01, 2.97635144e+01, 7.84759970e+01, 2.06913808e+02,\n",
       "       5.45559478e+02, 1.43844989e+03, 3.79269019e+03, 1.00000000e+04]),\n",
       "                                        'solver': ['liblinear']},\n",
       "                   verbose=True)"
      ]
     },
     "execution_count": 38,
     "metadata": {},
     "output_type": "execute_result"
    }
   ],
   "source": [
    "%%time\n",
    "\n",
    "#instantiate a random seed\n",
    "np.random.seed(42)\n",
    "#Using randomizedsearchCV for creating models\n",
    "log_reg_rs = RandomizedSearchCV(LogisticRegression(),param_distributions=log_reg_grid,cv=5,n_iter=20,verbose=True)\n",
    "#fit the training data to the model\n",
    "log_reg_rs.fit(X_train,y_train)"
   ]
  },
  {
   "cell_type": "code",
   "execution_count": 39,
   "id": "18a6af40-8037-4981-890c-8752d39d2a96",
   "metadata": {},
   "outputs": [
    {
     "data": {
      "text/plain": [
       "{'solver': 'liblinear', 'C': 0.23357214690901212}"
      ]
     },
     "execution_count": 39,
     "metadata": {},
     "output_type": "execute_result"
    }
   ],
   "source": [
    "log_reg_rs.best_params_"
   ]
  },
  {
   "cell_type": "code",
   "execution_count": 40,
   "id": "8361096e-cafb-4b25-a362-545db49bc0f6",
   "metadata": {},
   "outputs": [
    {
     "data": {
      "text/plain": [
       "0.8852459016393442"
      ]
     },
     "execution_count": 40,
     "metadata": {},
     "output_type": "execute_result"
    }
   ],
   "source": [
    "log_reg_rs.score(X_test,y_test)"
   ]
  },
  {
   "cell_type": "markdown",
   "id": "b837eeef-9125-45d7-a3ec-1001efbcad9a",
   "metadata": {},
   "source": [
    "Now we've tuned LogisticRegression using RandomizedSearchCV, we'll do the same for RandomForestClassifier"
   ]
  },
  {
   "cell_type": "code",
   "execution_count": 41,
   "id": "470643a1-e50a-4db4-817c-9c741bebb509",
   "metadata": {},
   "outputs": [
    {
     "name": "stdout",
     "output_type": "stream",
     "text": [
      "Fitting 5 folds for each of 20 candidates, totalling 100 fits\n",
      "CPU times: user 20 s, sys: 173 ms, total: 20.2 s\n",
      "Wall time: 20.3 s\n"
     ]
    },
    {
     "data": {
      "text/html": [
       "<style>#sk-container-id-2 {color: black;background-color: white;}#sk-container-id-2 pre{padding: 0;}#sk-container-id-2 div.sk-toggleable {background-color: white;}#sk-container-id-2 label.sk-toggleable__label {cursor: pointer;display: block;width: 100%;margin-bottom: 0;padding: 0.3em;box-sizing: border-box;text-align: center;}#sk-container-id-2 label.sk-toggleable__label-arrow:before {content: \"▸\";float: left;margin-right: 0.25em;color: #696969;}#sk-container-id-2 label.sk-toggleable__label-arrow:hover:before {color: black;}#sk-container-id-2 div.sk-estimator:hover label.sk-toggleable__label-arrow:before {color: black;}#sk-container-id-2 div.sk-toggleable__content {max-height: 0;max-width: 0;overflow: hidden;text-align: left;background-color: #f0f8ff;}#sk-container-id-2 div.sk-toggleable__content pre {margin: 0.2em;color: black;border-radius: 0.25em;background-color: #f0f8ff;}#sk-container-id-2 input.sk-toggleable__control:checked~div.sk-toggleable__content {max-height: 200px;max-width: 100%;overflow: auto;}#sk-container-id-2 input.sk-toggleable__control:checked~label.sk-toggleable__label-arrow:before {content: \"▾\";}#sk-container-id-2 div.sk-estimator input.sk-toggleable__control:checked~label.sk-toggleable__label {background-color: #d4ebff;}#sk-container-id-2 div.sk-label input.sk-toggleable__control:checked~label.sk-toggleable__label {background-color: #d4ebff;}#sk-container-id-2 input.sk-hidden--visually {border: 0;clip: rect(1px 1px 1px 1px);clip: rect(1px, 1px, 1px, 1px);height: 1px;margin: -1px;overflow: hidden;padding: 0;position: absolute;width: 1px;}#sk-container-id-2 div.sk-estimator {font-family: monospace;background-color: #f0f8ff;border: 1px dotted black;border-radius: 0.25em;box-sizing: border-box;margin-bottom: 0.5em;}#sk-container-id-2 div.sk-estimator:hover {background-color: #d4ebff;}#sk-container-id-2 div.sk-parallel-item::after {content: \"\";width: 100%;border-bottom: 1px solid gray;flex-grow: 1;}#sk-container-id-2 div.sk-label:hover label.sk-toggleable__label {background-color: #d4ebff;}#sk-container-id-2 div.sk-serial::before {content: \"\";position: absolute;border-left: 1px solid gray;box-sizing: border-box;top: 0;bottom: 0;left: 50%;z-index: 0;}#sk-container-id-2 div.sk-serial {display: flex;flex-direction: column;align-items: center;background-color: white;padding-right: 0.2em;padding-left: 0.2em;position: relative;}#sk-container-id-2 div.sk-item {position: relative;z-index: 1;}#sk-container-id-2 div.sk-parallel {display: flex;align-items: stretch;justify-content: center;background-color: white;position: relative;}#sk-container-id-2 div.sk-item::before, #sk-container-id-2 div.sk-parallel-item::before {content: \"\";position: absolute;border-left: 1px solid gray;box-sizing: border-box;top: 0;bottom: 0;left: 50%;z-index: -1;}#sk-container-id-2 div.sk-parallel-item {display: flex;flex-direction: column;z-index: 1;position: relative;background-color: white;}#sk-container-id-2 div.sk-parallel-item:first-child::after {align-self: flex-end;width: 50%;}#sk-container-id-2 div.sk-parallel-item:last-child::after {align-self: flex-start;width: 50%;}#sk-container-id-2 div.sk-parallel-item:only-child::after {width: 0;}#sk-container-id-2 div.sk-dashed-wrapped {border: 1px dashed gray;margin: 0 0.4em 0.5em 0.4em;box-sizing: border-box;padding-bottom: 0.4em;background-color: white;}#sk-container-id-2 div.sk-label label {font-family: monospace;font-weight: bold;display: inline-block;line-height: 1.2em;}#sk-container-id-2 div.sk-label-container {text-align: center;}#sk-container-id-2 div.sk-container {/* jupyter's `normalize.less` sets `[hidden] { display: none; }` but bootstrap.min.css set `[hidden] { display: none !important; }` so we also need the `!important` here to be able to override the default hidden behavior on the sphinx rendered scikit-learn.org. See: https://github.com/scikit-learn/scikit-learn/issues/21755 */display: inline-block !important;position: relative;}#sk-container-id-2 div.sk-text-repr-fallback {display: none;}</style><div id=\"sk-container-id-2\" class=\"sk-top-container\"><div class=\"sk-text-repr-fallback\"><pre>RandomizedSearchCV(cv=5, estimator=RandomForestClassifier(), n_iter=20,\n",
       "                   param_distributions={&#x27;max_depth&#x27;: [None, 3, 5, 10],\n",
       "                                        &#x27;min_samples_leaf&#x27;: array([ 1,  3,  5,  7,  9, 11, 13, 15, 17, 19]),\n",
       "                                        &#x27;min_samples_split&#x27;: array([ 2,  4,  6,  8, 10, 12, 14, 16, 18]),\n",
       "                                        &#x27;n_estimators&#x27;: array([ 10,  60, 110, 160, 210, 260, 310, 360, 410, 460, 510, 560, 610,\n",
       "       660, 710, 760, 810, 860, 910, 960])},\n",
       "                   verbose=True)</pre><b>In a Jupyter environment, please rerun this cell to show the HTML representation or trust the notebook. <br />On GitHub, the HTML representation is unable to render, please try loading this page with nbviewer.org.</b></div><div class=\"sk-container\" hidden><div class=\"sk-item sk-dashed-wrapped\"><div class=\"sk-label-container\"><div class=\"sk-label sk-toggleable\"><input class=\"sk-toggleable__control sk-hidden--visually\" id=\"sk-estimator-id-4\" type=\"checkbox\" ><label for=\"sk-estimator-id-4\" class=\"sk-toggleable__label sk-toggleable__label-arrow\">RandomizedSearchCV</label><div class=\"sk-toggleable__content\"><pre>RandomizedSearchCV(cv=5, estimator=RandomForestClassifier(), n_iter=20,\n",
       "                   param_distributions={&#x27;max_depth&#x27;: [None, 3, 5, 10],\n",
       "                                        &#x27;min_samples_leaf&#x27;: array([ 1,  3,  5,  7,  9, 11, 13, 15, 17, 19]),\n",
       "                                        &#x27;min_samples_split&#x27;: array([ 2,  4,  6,  8, 10, 12, 14, 16, 18]),\n",
       "                                        &#x27;n_estimators&#x27;: array([ 10,  60, 110, 160, 210, 260, 310, 360, 410, 460, 510, 560, 610,\n",
       "       660, 710, 760, 810, 860, 910, 960])},\n",
       "                   verbose=True)</pre></div></div></div><div class=\"sk-parallel\"><div class=\"sk-parallel-item\"><div class=\"sk-item\"><div class=\"sk-label-container\"><div class=\"sk-label sk-toggleable\"><input class=\"sk-toggleable__control sk-hidden--visually\" id=\"sk-estimator-id-5\" type=\"checkbox\" ><label for=\"sk-estimator-id-5\" class=\"sk-toggleable__label sk-toggleable__label-arrow\">estimator: RandomForestClassifier</label><div class=\"sk-toggleable__content\"><pre>RandomForestClassifier()</pre></div></div></div><div class=\"sk-serial\"><div class=\"sk-item\"><div class=\"sk-estimator sk-toggleable\"><input class=\"sk-toggleable__control sk-hidden--visually\" id=\"sk-estimator-id-6\" type=\"checkbox\" ><label for=\"sk-estimator-id-6\" class=\"sk-toggleable__label sk-toggleable__label-arrow\">RandomForestClassifier</label><div class=\"sk-toggleable__content\"><pre>RandomForestClassifier()</pre></div></div></div></div></div></div></div></div></div></div>"
      ],
      "text/plain": [
       "RandomizedSearchCV(cv=5, estimator=RandomForestClassifier(), n_iter=20,\n",
       "                   param_distributions={'max_depth': [None, 3, 5, 10],\n",
       "                                        'min_samples_leaf': array([ 1,  3,  5,  7,  9, 11, 13, 15, 17, 19]),\n",
       "                                        'min_samples_split': array([ 2,  4,  6,  8, 10, 12, 14, 16, 18]),\n",
       "                                        'n_estimators': array([ 10,  60, 110, 160, 210, 260, 310, 360, 410, 460, 510, 560, 610,\n",
       "       660, 710, 760, 810, 860, 910, 960])},\n",
       "                   verbose=True)"
      ]
     },
     "execution_count": 41,
     "metadata": {},
     "output_type": "execute_result"
    }
   ],
   "source": [
    "%%time\n",
    "\n",
    "#instantiate a random seed\n",
    "np.random.seed(42)\n",
    "\n",
    "#Using randomizedsearchCV to create models\n",
    "rf_rs = RandomizedSearchCV(RandomForestClassifier(),param_distributions=rf_grid,cv=5,n_iter=20,verbose=True)\n",
    "#fit the training data to the model\n",
    "rf_rs.fit(X_train,y_train)"
   ]
  },
  {
   "cell_type": "code",
   "execution_count": 43,
   "id": "7b597d9e-c841-4b88-9e0e-93b8860d865d",
   "metadata": {},
   "outputs": [
    {
     "data": {
      "text/plain": [
       "{'n_estimators': 210,\n",
       " 'min_samples_split': 4,\n",
       " 'min_samples_leaf': 19,\n",
       " 'max_depth': 3}"
      ]
     },
     "execution_count": 43,
     "metadata": {},
     "output_type": "execute_result"
    }
   ],
   "source": [
    "#Finding the best parameters\n",
    "rf_rs.best_params_"
   ]
  },
  {
   "cell_type": "code",
   "execution_count": 44,
   "id": "e317940e-59e2-4246-bbe0-3762182074d1",
   "metadata": {},
   "outputs": [
    {
     "data": {
      "text/plain": [
       "0.8688524590163934"
      ]
     },
     "execution_count": 44,
     "metadata": {},
     "output_type": "execute_result"
    }
   ],
   "source": [
    "rf_rs.score(X_test,y_test)"
   ]
  },
  {
   "cell_type": "markdown",
   "id": "522ac18a-3a2d-4348-a7b5-db3ff47a8a6a",
   "metadata": {},
   "source": [
    "### 6.3 Tuning a Model with `GridSearchCV`  \n",
    "\n",
    "**What’s the Difference?**  \n",
    "- **`RandomizedSearchCV`**: Tries a random selection of hyperparameter combinations (faster, good for large search spaces).  \n",
    "- **`GridSearchCV`**: Tries **every possible combination** in the hyperparameter grid (more thorough, but slower).  \n",
    "\n",
    "Both methods automatically evaluate combinations and **return the best-performing model**.\n",
    "\n",
    "---\n",
    "\n",
    "We'll now use `GridSearchCV` to perform an exhaustive hyperparameter search and see which combination gives us the best results.\n"
   ]
  },
  {
   "cell_type": "code",
   "execution_count": 47,
   "id": "7c4b8781-2c45-4bac-95d3-dea98c7d4ace",
   "metadata": {},
   "outputs": [
    {
     "name": "stdout",
     "output_type": "stream",
     "text": [
      "Fitting 5 folds for each of 35 candidates, totalling 175 fits\n"
     ]
    },
    {
     "data": {
      "text/html": [
       "<style>#sk-container-id-3 {color: black;background-color: white;}#sk-container-id-3 pre{padding: 0;}#sk-container-id-3 div.sk-toggleable {background-color: white;}#sk-container-id-3 label.sk-toggleable__label {cursor: pointer;display: block;width: 100%;margin-bottom: 0;padding: 0.3em;box-sizing: border-box;text-align: center;}#sk-container-id-3 label.sk-toggleable__label-arrow:before {content: \"▸\";float: left;margin-right: 0.25em;color: #696969;}#sk-container-id-3 label.sk-toggleable__label-arrow:hover:before {color: black;}#sk-container-id-3 div.sk-estimator:hover label.sk-toggleable__label-arrow:before {color: black;}#sk-container-id-3 div.sk-toggleable__content {max-height: 0;max-width: 0;overflow: hidden;text-align: left;background-color: #f0f8ff;}#sk-container-id-3 div.sk-toggleable__content pre {margin: 0.2em;color: black;border-radius: 0.25em;background-color: #f0f8ff;}#sk-container-id-3 input.sk-toggleable__control:checked~div.sk-toggleable__content {max-height: 200px;max-width: 100%;overflow: auto;}#sk-container-id-3 input.sk-toggleable__control:checked~label.sk-toggleable__label-arrow:before {content: \"▾\";}#sk-container-id-3 div.sk-estimator input.sk-toggleable__control:checked~label.sk-toggleable__label {background-color: #d4ebff;}#sk-container-id-3 div.sk-label input.sk-toggleable__control:checked~label.sk-toggleable__label {background-color: #d4ebff;}#sk-container-id-3 input.sk-hidden--visually {border: 0;clip: rect(1px 1px 1px 1px);clip: rect(1px, 1px, 1px, 1px);height: 1px;margin: -1px;overflow: hidden;padding: 0;position: absolute;width: 1px;}#sk-container-id-3 div.sk-estimator {font-family: monospace;background-color: #f0f8ff;border: 1px dotted black;border-radius: 0.25em;box-sizing: border-box;margin-bottom: 0.5em;}#sk-container-id-3 div.sk-estimator:hover {background-color: #d4ebff;}#sk-container-id-3 div.sk-parallel-item::after {content: \"\";width: 100%;border-bottom: 1px solid gray;flex-grow: 1;}#sk-container-id-3 div.sk-label:hover label.sk-toggleable__label {background-color: #d4ebff;}#sk-container-id-3 div.sk-serial::before {content: \"\";position: absolute;border-left: 1px solid gray;box-sizing: border-box;top: 0;bottom: 0;left: 50%;z-index: 0;}#sk-container-id-3 div.sk-serial {display: flex;flex-direction: column;align-items: center;background-color: white;padding-right: 0.2em;padding-left: 0.2em;position: relative;}#sk-container-id-3 div.sk-item {position: relative;z-index: 1;}#sk-container-id-3 div.sk-parallel {display: flex;align-items: stretch;justify-content: center;background-color: white;position: relative;}#sk-container-id-3 div.sk-item::before, #sk-container-id-3 div.sk-parallel-item::before {content: \"\";position: absolute;border-left: 1px solid gray;box-sizing: border-box;top: 0;bottom: 0;left: 50%;z-index: -1;}#sk-container-id-3 div.sk-parallel-item {display: flex;flex-direction: column;z-index: 1;position: relative;background-color: white;}#sk-container-id-3 div.sk-parallel-item:first-child::after {align-self: flex-end;width: 50%;}#sk-container-id-3 div.sk-parallel-item:last-child::after {align-self: flex-start;width: 50%;}#sk-container-id-3 div.sk-parallel-item:only-child::after {width: 0;}#sk-container-id-3 div.sk-dashed-wrapped {border: 1px dashed gray;margin: 0 0.4em 0.5em 0.4em;box-sizing: border-box;padding-bottom: 0.4em;background-color: white;}#sk-container-id-3 div.sk-label label {font-family: monospace;font-weight: bold;display: inline-block;line-height: 1.2em;}#sk-container-id-3 div.sk-label-container {text-align: center;}#sk-container-id-3 div.sk-container {/* jupyter's `normalize.less` sets `[hidden] { display: none; }` but bootstrap.min.css set `[hidden] { display: none !important; }` so we also need the `!important` here to be able to override the default hidden behavior on the sphinx rendered scikit-learn.org. See: https://github.com/scikit-learn/scikit-learn/issues/21755 */display: inline-block !important;position: relative;}#sk-container-id-3 div.sk-text-repr-fallback {display: none;}</style><div id=\"sk-container-id-3\" class=\"sk-top-container\"><div class=\"sk-text-repr-fallback\"><pre>GridSearchCV(cv=5, estimator=LogisticRegression(),\n",
       "             param_grid={&#x27;C&#x27;: array([1.00000000e-04, 1.71907220e-04, 2.95520924e-04, 5.08021805e-04,\n",
       "       8.73326162e-04, 1.50131073e-03, 2.58086154e-03, 4.43668733e-03,\n",
       "       7.62698586e-03, 1.31113394e-02, 2.25393390e-02, 3.87467512e-02,\n",
       "       6.66084629e-02, 1.14504757e-01, 1.96841945e-01, 3.38385515e-01,\n",
       "       5.81709133e-01, 1.00000000e+00, 1.71907220e+00, 2.95520924e+00,\n",
       "       5.08021805e+00, 8.73326162e+00, 1.50131073e+01, 2.58086154e+01,\n",
       "       4.43668733e+01, 7.62698586e+01, 1.31113394e+02, 2.25393390e+02,\n",
       "       3.87467512e+02, 6.66084629e+02, 1.14504757e+03, 1.96841945e+03,\n",
       "       3.38385515e+03, 5.81709133e+03, 1.00000000e+04]),\n",
       "                         &#x27;solver&#x27;: [&#x27;liblinear&#x27;]},\n",
       "             verbose=True)</pre><b>In a Jupyter environment, please rerun this cell to show the HTML representation or trust the notebook. <br />On GitHub, the HTML representation is unable to render, please try loading this page with nbviewer.org.</b></div><div class=\"sk-container\" hidden><div class=\"sk-item sk-dashed-wrapped\"><div class=\"sk-label-container\"><div class=\"sk-label sk-toggleable\"><input class=\"sk-toggleable__control sk-hidden--visually\" id=\"sk-estimator-id-7\" type=\"checkbox\" ><label for=\"sk-estimator-id-7\" class=\"sk-toggleable__label sk-toggleable__label-arrow\">GridSearchCV</label><div class=\"sk-toggleable__content\"><pre>GridSearchCV(cv=5, estimator=LogisticRegression(),\n",
       "             param_grid={&#x27;C&#x27;: array([1.00000000e-04, 1.71907220e-04, 2.95520924e-04, 5.08021805e-04,\n",
       "       8.73326162e-04, 1.50131073e-03, 2.58086154e-03, 4.43668733e-03,\n",
       "       7.62698586e-03, 1.31113394e-02, 2.25393390e-02, 3.87467512e-02,\n",
       "       6.66084629e-02, 1.14504757e-01, 1.96841945e-01, 3.38385515e-01,\n",
       "       5.81709133e-01, 1.00000000e+00, 1.71907220e+00, 2.95520924e+00,\n",
       "       5.08021805e+00, 8.73326162e+00, 1.50131073e+01, 2.58086154e+01,\n",
       "       4.43668733e+01, 7.62698586e+01, 1.31113394e+02, 2.25393390e+02,\n",
       "       3.87467512e+02, 6.66084629e+02, 1.14504757e+03, 1.96841945e+03,\n",
       "       3.38385515e+03, 5.81709133e+03, 1.00000000e+04]),\n",
       "                         &#x27;solver&#x27;: [&#x27;liblinear&#x27;]},\n",
       "             verbose=True)</pre></div></div></div><div class=\"sk-parallel\"><div class=\"sk-parallel-item\"><div class=\"sk-item\"><div class=\"sk-label-container\"><div class=\"sk-label sk-toggleable\"><input class=\"sk-toggleable__control sk-hidden--visually\" id=\"sk-estimator-id-8\" type=\"checkbox\" ><label for=\"sk-estimator-id-8\" class=\"sk-toggleable__label sk-toggleable__label-arrow\">estimator: LogisticRegression</label><div class=\"sk-toggleable__content\"><pre>LogisticRegression()</pre></div></div></div><div class=\"sk-serial\"><div class=\"sk-item\"><div class=\"sk-estimator sk-toggleable\"><input class=\"sk-toggleable__control sk-hidden--visually\" id=\"sk-estimator-id-9\" type=\"checkbox\" ><label for=\"sk-estimator-id-9\" class=\"sk-toggleable__label sk-toggleable__label-arrow\">LogisticRegression</label><div class=\"sk-toggleable__content\"><pre>LogisticRegression()</pre></div></div></div></div></div></div></div></div></div></div>"
      ],
      "text/plain": [
       "GridSearchCV(cv=5, estimator=LogisticRegression(),\n",
       "             param_grid={'C': array([1.00000000e-04, 1.71907220e-04, 2.95520924e-04, 5.08021805e-04,\n",
       "       8.73326162e-04, 1.50131073e-03, 2.58086154e-03, 4.43668733e-03,\n",
       "       7.62698586e-03, 1.31113394e-02, 2.25393390e-02, 3.87467512e-02,\n",
       "       6.66084629e-02, 1.14504757e-01, 1.96841945e-01, 3.38385515e-01,\n",
       "       5.81709133e-01, 1.00000000e+00, 1.71907220e+00, 2.95520924e+00,\n",
       "       5.08021805e+00, 8.73326162e+00, 1.50131073e+01, 2.58086154e+01,\n",
       "       4.43668733e+01, 7.62698586e+01, 1.31113394e+02, 2.25393390e+02,\n",
       "       3.87467512e+02, 6.66084629e+02, 1.14504757e+03, 1.96841945e+03,\n",
       "       3.38385515e+03, 5.81709133e+03, 1.00000000e+04]),\n",
       "                         'solver': ['liblinear']},\n",
       "             verbose=True)"
      ]
     },
     "execution_count": 47,
     "metadata": {},
     "output_type": "execute_result"
    }
   ],
   "source": [
    "#Since logistic regression is doing better we are doing grid searchcv on it to enhance its performance\n",
    "\n",
    "#Creating a hyperparameter grid for logistic regression\n",
    "log_reg_gridsearch_grid = {\"C\":np.logspace(-4,4,35), \n",
    "               \"solver\":[\"liblinear\"]}\n",
    "\n",
    "#instantiate a random seed\n",
    "np.random.seed(42)\n",
    "\n",
    "#Using randomizedsearchCV to create models\n",
    "log_reg_gs = GridSearchCV(LogisticRegression(),param_grid=log_reg_gridsearch_grid,cv=5,verbose=True)\n",
    "#fit the training data to the model\n",
    "log_reg_gs.fit(X_train,y_train)\n"
   ]
  },
  {
   "cell_type": "code",
   "execution_count": 48,
   "id": "b514138c-2b1e-4c0b-b242-bbd8de05c13a",
   "metadata": {},
   "outputs": [
    {
     "data": {
      "text/plain": [
       "{'C': 0.19684194472866112, 'solver': 'liblinear'}"
      ]
     },
     "execution_count": 48,
     "metadata": {},
     "output_type": "execute_result"
    }
   ],
   "source": [
    "#finding the best parameters\n",
    "log_reg_gs.best_params_"
   ]
  },
  {
   "cell_type": "code",
   "execution_count": 49,
   "id": "f45761d0-9c8f-4f4b-a6df-f637ac52a3b7",
   "metadata": {},
   "outputs": [
    {
     "data": {
      "text/plain": [
       "0.8852459016393442"
      ]
     },
     "execution_count": 49,
     "metadata": {},
     "output_type": "execute_result"
    }
   ],
   "source": [
    "#evaluating the score\n",
    "log_reg_gs.score(X_test,y_test)"
   ]
  },
  {
   "cell_type": "markdown",
   "id": "ff401a2b-1e12-4f75-9531-718a8a301e03",
   "metadata": {},
   "source": [
    "In this case, we got the same results as before since our grid only has a maximum of 35 different hyperparameter combinations"
   ]
  },
  {
   "cell_type": "markdown",
   "id": "84ec2d2b-1ce9-4868-a473-dd05339cc3e1",
   "metadata": {},
   "source": [
    "\n",
    "## 7. Evaluating a Classification Model (Beyond Accuracy)\n",
    "\n",
    "Now that we’ve tuned our model, let’s evaluate it using additional performance metrics.\n",
    "\n",
    "**Key Metrics & Scikit-Learn Methods**\n",
    "\n",
    "| **Metric**              | **Scikit-Learn Function**                                   |\n",
    "|-------------------------|-------------------------------------------------------------|\n",
    "| ROC Curve & AUC Score   | `sklearn.metrics.RocCurveDisplay()` *(v1.2+)*               |\n",
    "| Confusion Matrix        | `sklearn.metrics.confusion_matrix()`                        |\n",
    "| Classification Report   | `sklearn.metrics.classification_report()`                   |\n",
    "| Precision               | `sklearn.metrics.precision_score()`                         |\n",
    "| Recall                  | `sklearn.metrics.recall_score()`                            |\n",
    "| F1-Score                | `sklearn.metrics.f1_score()`                                |\n",
    "\n",
    "These metrics help us understand how well our model performs, especially in cases where accuracy alone isn’t enough.\n",
    "\n",
    "**Next Step**\n",
    "\n",
    "We’ll make predictions on the test set using:\n",
    "```python\n",
    "model.predict(X_test)\n"
   ]
  },
  {
   "cell_type": "code",
   "execution_count": 50,
   "id": "a7bcec98-5e80-477e-894e-3c58a744b670",
   "metadata": {},
   "outputs": [],
   "source": [
    "#predicting the values using X_test data\n",
    "y_preds = log_reg_gs.predict(X_test)"
   ]
  },
  {
   "cell_type": "code",
   "execution_count": 51,
   "id": "95ce4eaf-0914-48c9-8322-496089839cf8",
   "metadata": {},
   "outputs": [
    {
     "data": {
      "text/plain": [
       "array([0, 1, 1, 0, 1, 1, 1, 0, 0, 1, 1, 0, 1, 0, 1, 1, 1, 0, 0, 0, 1, 0,\n",
       "       0, 1, 1, 1, 1, 1, 0, 1, 0, 0, 0, 0, 1, 0, 1, 1, 1, 1, 1, 1, 1, 1,\n",
       "       1, 0, 1, 1, 0, 0, 0, 0, 1, 1, 0, 0, 0, 1, 0, 0, 0])"
      ]
     },
     "execution_count": 51,
     "metadata": {},
     "output_type": "execute_result"
    }
   ],
   "source": [
    "#verifying the predictions\n",
    "y_preds"
   ]
  },
  {
   "cell_type": "markdown",
   "id": "748fd246-8d6c-47fa-aa40-15667f0bda4f",
   "metadata": {},
   "source": [
    "### 7.1 ROC Curve and AUC Score\n",
    "\n",
    "The **ROC curve** (Receiver Operating Characteristic) helps us evaluate how well our model separates the classes by comparing the **true positive rate** vs the **false positive rate**.\n",
    "\n",
    "**Real-World Analogy**\n",
    "In medical testing:\n",
    "- A **false positive** means the test says someone has a disease when they don’t.\n",
    "- A **false negative** means the test misses the disease when the person actually has it.\n",
    "\n",
    "**How to Plot the ROC Curve in Scikit-Learn**\n",
    "We’ll use:\n",
    "```python\n",
    "sklearn.metrics.RocCurveDisplay.from_estimator(estimator, X, y)\n"
   ]
  },
  {
   "cell_type": "code",
   "execution_count": 55,
   "id": "4214ee28-d74b-4e98-ae9c-b455a1dd05b9",
   "metadata": {},
   "outputs": [
    {
     "data": {
      "text/plain": [
       "<sklearn.metrics._plot.roc_curve.RocCurveDisplay at 0x144561d90>"
      ]
     },
     "execution_count": 55,
     "metadata": {},
     "output_type": "execute_result"
    },
    {
     "data": {
      "image/png": "[encoded data removed]",
      "text/plain": [
       "<Figure size 640x480 with 1 Axes>"
      ]
     },
     "metadata": {},
     "output_type": "display_data"
    }
   ],
   "source": [
    "#importing the ROC Curve display\n",
    "from sklearn.metrics import RocCurveDisplay\n",
    "\n",
    "#plotting the ROC Curve\n",
    "RocCurveDisplay.from_estimator(estimator = log_reg_gs,\n",
    "                               X = X_test,\n",
    "                               y = y_test)\n",
    "                       "
   ]
  },
  {
   "cell_type": "markdown",
   "id": "cbc31424-dda5-4f5d-817e-ed5b52f55e7e",
   "metadata": {},
   "source": [
    "### 7.2 Confusion Matrix\n",
    "\n",
    "Our ROC curve shows that the model performs **much better than random guessing** (AUC = 0.5), which is great.  \n",
    "However, since a **perfect model would score an AUC of 1.0**, there's still room for improvement.\n",
    "\n",
    "\n",
    "Now, let's move on to the **confusion matrix**, another powerful way to evaluate classification performance.\n",
    "\n",
    "A confusion matrix shows:\n",
    "- **True Positives (TP)**: Correctly predicted positives  \n",
    "- **True Negatives (TN)**: Correctly predicted negatives  \n",
    "- **False Positives (FP)**: Incorrectly predicted positives  \n",
    "- **False Negatives (FN)**: Incorrectly predicted negatives  \n",
    "\n",
    "This helps us see **exactly where our model is getting things right or wrong**.\n"
   ]
  },
  {
   "cell_type": "markdown",
   "id": "d71b9c40-492c-4ddf-a351-184f34e30369",
   "metadata": {},
   "source": [
    "### 7.2 Creating a Confusion Matrix\n",
    "\n",
    "A **confusion matrix** is a visual tool to understand **where your model made correct and incorrect predictions** — in other words, where it got \"confused.\"\n",
    "\n",
    "\n",
    "**Scikit-Learn Function**  \n",
    "We can create one using:\n",
    "```python\n",
    "sklearn.metrics.confusion_matrix(y_true, y_pred)\n"
   ]
  },
  {
   "cell_type": "code",
   "execution_count": 57,
   "id": "21502e00-2f4d-443d-a075-7557c51b81c4",
   "metadata": {},
   "outputs": [
    {
     "name": "stdout",
     "output_type": "stream",
     "text": [
      "[[25  4]\n",
      " [ 3 29]]\n"
     ]
    }
   ],
   "source": [
    "#Display the confusion matrix\n",
    "print(confusion_matrix(y_test,y_preds))|"
   ]
  },
  {
   "cell_type": "code",
   "execution_count": 60,
   "id": "bd70505b-5809-476b-819c-d2fdf07746b0",
   "metadata": {},
   "outputs": [
    {
     "data": {
      "image/png": "[encoded data removed]",
      "text/plain": [
       "<Figure size 300x300 with 1 Axes>"
      ]
     },
     "metadata": {},
     "output_type": "display_data"
    }
   ],
   "source": [
    "import seaborn as sns\n",
    "\n",
    "sns.set(font_scale=1.5) # increasing the font size\n",
    "\n",
    "def plot_conf_matrix(y_test,y_preds):\n",
    "    fig, ax = plt.subplots(figsize=(3,3))\n",
    "    ax = sns.heatmap(confusion_matrix(y_test,y_preds),\n",
    "                     cbar = False,\n",
    "                     annot = True)\n",
    "\n",
    "    plt.xlabel(\"true label\")\n",
    "    plt.ylabel(\"predicted label\")\n",
    "    plt.title(\"confusion matrix\")\n",
    "    plt.show()\n",
    "\n",
    "\n",
    "#calling the function\n",
    "plot_conf_matrix(y_test,y_preds)             \n",
    "    "
   ]
  },
  {
   "cell_type": "markdown",
   "id": "4dae9e7e-9c83-4f41-b0b0-1c9b9ba50f8b",
   "metadata": {},
   "source": [
    "**Interpreting the Confusion Matrix**\n",
    "\n",
    "From the confusion matrix, we can see the model makes **similar numbers of mistakes** in both classes:\n",
    "\n",
    "- **4 false negatives**: The model predicted **0** when the true label was **1** (missed actual positive cases).  \n",
    "- **3 false positives**: The model predicted **1** when the true label was **0** (flagged negatives as positives).\n",
    "\n",
    "\n",
    "As further analysis, we could **inspect these specific cases** to understand why the model got them wrong — possibly due to unclear patterns or overlapping features in the\n"
   ]
  },
  {
   "cell_type": "markdown",
   "id": "1f90f3c3-8890-4ad1-8a46-2964d80a4174",
   "metadata": {},
   "source": [
    "### 7.3 Classification Report\n",
    "\n",
    "A **classification report** summarizes key evaluation metrics for each class.\n",
    "\n",
    "We can generate one using:  \n",
    "```python\n",
    "sklearn.metrics.classification_report(y_true, y_pred)\n"
   ]
  },
  {
   "cell_type": "code",
   "execution_count": 62,
   "id": "943df020-e1e8-4a5f-8ab4-07124a19c519",
   "metadata": {},
   "outputs": [
    {
     "name": "stdout",
     "output_type": "stream",
     "text": [
      "              precision    recall  f1-score   support\n",
      "\n",
      "           0       0.89      0.86      0.88        29\n",
      "           1       0.88      0.91      0.89        32\n",
      "\n",
      "    accuracy                           0.89        61\n",
      "   macro avg       0.89      0.88      0.88        61\n",
      "weighted avg       0.89      0.89      0.89        61\n",
      "\n"
     ]
    }
   ],
   "source": [
    "#displaying a classification report\n",
    "print(classification_report(y_true = y_test,\n",
    "                            y_pred = y_preds))"
   ]
  },
  {
   "cell_type": "markdown",
   "id": "b5697a28-907a-4cf6-a64b-33bd87b74468",
   "metadata": {},
   "source": [
    "### 7.4 Understanding Classification Metrics  \n",
    "\n",
    "what each metric in the **classification report** means:\n",
    "\n",
    "| **Metric**       | **Explanation** |\n",
    "|------------------|-----------------|\n",
    "| **Precision**    | Of the samples the model predicted as positive (class 1), how many were actually correct. |\n",
    "| **Recall**       | Of all actual positives, how many did the model correctly identify. |\n",
    "| **F1 Score**     | The balance between precision and recall. 1.0 is perfect. |\n",
    "| **Support**      | The number of actual samples in each class. |\n",
    "| **Accuracy**     | Overall correctness of the model (correct predictions / total samples). |\n",
    "| **Macro Avg**    | Average of precision, recall, and F1 across classes (treats all classes equally). |\n",
    "| **Weighted Avg** | Like macro, but considers class sizes. Favors performance on the larger class. |\n",
    "\n",
    "\n",
    "While these results give us good insight, they were based on a **single train-test split**. To make our evaluation more **robust**, we'll now use **cross-validation**.\n",
    "\n",
    "\n",
    "### **Next Step: Cross-Validation**\n",
    "We'll use:\n",
    "```python\n",
    "cross_val_score(estimator, X, y, scoring=\"metric\", cv=5)\n"
   ]
  },
  {
   "cell_type": "code",
   "execution_count": 63,
   "id": "113917a7-8d6c-4caa-9a18-5ac18ca3637a",
   "metadata": {},
   "outputs": [
    {
     "data": {
      "text/plain": [
       "{'C': 0.19684194472866112, 'solver': 'liblinear'}"
      ]
     },
     "execution_count": 63,
     "metadata": {},
     "output_type": "execute_result"
    }
   ],
   "source": [
    "#checking the best parameters\n",
    "log_reg_gs.best_params_"
   ]
  },
  {
   "cell_type": "code",
   "execution_count": 66,
   "id": "870be55c-1653-4825-9ff0-a9240170a8f7",
   "metadata": {},
   "outputs": [],
   "source": [
    "#import cross val score\n",
    "from sklearn.model_selection import cross_val_score\n",
    "\n",
    "#creating a new model with the best parameters\n",
    "new_log_reg = LogisticRegression(C=0.19684194472866112,\n",
    "                                 solver = 'liblinear')"
   ]
  },
  {
   "cell_type": "code",
   "execution_count": 79,
   "id": "f48c85a6-7987-49af-9990-94eed09addd5",
   "metadata": {},
   "outputs": [
    {
     "name": "stdout",
     "output_type": "stream",
     "text": [
      "CPU times: user 9.75 ms, sys: 9.87 ms, total: 19.6 ms\n",
      "Wall time: 34.5 ms\n"
     ]
    },
    {
     "data": {
      "text/plain": [
       "0.8446994535519124"
      ]
     },
     "execution_count": 79,
     "metadata": {},
     "output_type": "execute_result"
    }
   ],
   "source": [
    "%%time\n",
    "\n",
    "# Cross-validated accuracy score\n",
    "cv_acc = np.mean(cross_val_score(new_log_reg,\n",
    "                         X,\n",
    "                         y,\n",
    "                         cv=5, # 5-fold cross-validation, this is the default\n",
    "                         scoring=\"accuracy\")) # accuracy as scoring\n",
    "cv_acc"
   ]
  },
  {
   "cell_type": "code",
   "execution_count": 70,
   "id": "1b333b4f-36ab-49c9-99a0-5eaa3a69b6cd",
   "metadata": {},
   "outputs": [
    {
     "data": {
      "text/plain": [
       "0.8207936507936507"
      ]
     },
     "execution_count": 70,
     "metadata": {},
     "output_type": "execute_result"
    }
   ],
   "source": [
    "#cross-validated precision score\n",
    "cv_precision = np.mean(cross_val_score(new_log_reg,\n",
    "                                       X,\n",
    "                                       y,\n",
    "                                       cv=5,\n",
    "                                       scoring = \"precision\"))\n",
    "\n",
    "cv_precision"
   ]
  },
  {
   "cell_type": "code",
   "execution_count": 71,
   "id": "21472e36-48f1-4bd8-83f4-2e33ff828e05",
   "metadata": {},
   "outputs": [
    {
     "data": {
      "text/plain": [
       "0.9212121212121213"
      ]
     },
     "execution_count": 71,
     "metadata": {},
     "output_type": "execute_result"
    }
   ],
   "source": [
    "#cross-validated recall score\n",
    "cv_recall = np.mean(cross_val_score(new_log_reg,\n",
    "                                       X,\n",
    "                                       y,\n",
    "                                       cv=5,\n",
    "                                       scoring = \"recall\"))\n",
    "\n",
    "cv_recall"
   ]
  },
  {
   "cell_type": "code",
   "execution_count": 74,
   "id": "f2c51a56-37eb-4588-98df-69234d4bf5d9",
   "metadata": {},
   "outputs": [
    {
     "data": {
      "text/plain": [
       "0.8673007976269721"
      ]
     },
     "execution_count": 74,
     "metadata": {},
     "output_type": "execute_result"
    }
   ],
   "source": [
    "#cross-validated f1score\n",
    "cv_f1 = np.mean(cross_val_score(new_log_reg,\n",
    "                                       X,\n",
    "                                       y,\n",
    "                                       cv=5,\n",
    "                                       scoring = \"f1\"))\n",
    "\n",
    "cv_f1"
   ]
  },
  {
   "cell_type": "code",
   "execution_count": 93,
   "id": "0b4527fa-e91d-4d93-8abe-dd9678c21286",
   "metadata": {},
   "outputs": [
    {
     "data": {
      "text/plain": [
       "(array([0, 1, 2, 3]),\n",
       " [Text(0, 0, 'Accuracy'),\n",
       "  Text(1, 0, 'Precision'),\n",
       "  Text(2, 0, 'Recall'),\n",
       "  Text(3, 0, 'F1')])"
      ]
     },
     "execution_count": 93,
     "metadata": {},
     "output_type": "execute_result"
    },
    {
     "data": {
      "image/png": "[encoded data removed]",
      "text/plain": [
       "<Figure size 640x480 with 1 Axes>"
      ]
     },
     "metadata": {},
     "output_type": "display_data"
    }
   ],
   "source": [
    "# Visualizing cross-validated metrics\n",
    "cv_metrics = pd.DataFrame({\"Accuracy\": [cv_acc],\n",
    "                            \"Precision\": [cv_precision],\n",
    "                            \"Recall\": [cv_recall],\n",
    "                            \"F1\": [cv_f1]})\n",
    "cv_metrics.T.plot.bar(title=\"Cross-Validated Metrics\", legend=False);\n",
    "plt.xticks(rotation = 0)\n"
   ]
  },
  {
   "cell_type": "markdown",
   "id": "53a79433-baa5-46ba-bd7b-7d7e43a39a5a",
   "metadata": {},
   "source": [
    "## 8. Feature Importance\n",
    "\n",
    "**Feature importance** helps us understand **which input features (variables)** contribute most to a model’s predictions.\n",
    "\n",
    "In our case, it answers:\n",
    "> “Which medical characteristics most influence whether the model predicts heart disease?”\n",
    "\n",
    "---\n",
    "\n",
    "**Key Points:**\n",
    "- Different models calculate feature importance **in different ways**.\n",
    "- Feature importance from one model **may not match** another.\n",
    "- You can usually check model-specific importance in the **Scikit-Learn documentation** or search for `\"model_name feature importance\"`.\n",
    "\n",
    "---\n",
    "\n",
    "**For Logistic Regression:\n",
    "- Feature importance is accessed through the `.coef_` attribute.\n",
    "- These coefficients represent the **weight or influence** of each feature.\n",
    "- A **larger absolute value** means a **stronger influence** on the prediction.\n",
    "\n",
    "We’ll now use `.coef_` to visualize which features are most important in predicting heart disease using our Logistic Regression model.\n"
   ]
  },
  {
   "cell_type": "code",
   "execution_count": 85,
   "id": "78796c6f-d3ff-479c-bb1d-9d39fe915c37",
   "metadata": {},
   "outputs": [
    {
     "data": {
      "text/plain": [
       "array([[ 0.00301385, -0.84679847,  0.65659649, -0.01157383, -0.00165059,\n",
       "         0.04275513,  0.30847782,  0.02454609, -0.59569578, -0.56660772,\n",
       "         0.44494371, -0.63273024, -0.67209447]])"
      ]
     },
     "execution_count": 85,
     "metadata": {},
     "output_type": "execute_result"
    }
   ],
   "source": [
    "# Fit an instance of LogisticRegression (taken from above)\n",
    "new_log_reg.fit(X_train, y_train);\n",
    "# Check coef_\n",
    "new_log_reg.coef_"
   ]
  },
  {
   "cell_type": "code",
   "execution_count": 87,
   "id": "3df680da-b341-40c1-99dc-993f0a72f664",
   "metadata": {},
   "outputs": [
    {
     "data": {
      "text/plain": [
       "{'age': 0.0030138500647255663,\n",
       " 'sex': -0.8467984713325387,\n",
       " 'cp': 0.6565964852311285,\n",
       " 'trestbps': -0.01157382624519891,\n",
       " 'chol': -0.0016505909252360217,\n",
       " 'fbs': 0.04275512522024201,\n",
       " 'restecg': 0.30847781527715684,\n",
       " 'thalach': 0.02454609200667511,\n",
       " 'exang': -0.5956957819015555,\n",
       " 'oldpeak': -0.5666077246702194,\n",
       " 'slope': 0.4449437145794037,\n",
       " 'ca': -0.6327302364571188,\n",
       " 'thal': -0.6720944658004167}"
      ]
     },
     "execution_count": 87,
     "metadata": {},
     "output_type": "execute_result"
    }
   ],
   "source": [
    "# Match features to columns\n",
    "features_dict = dict(zip(df.columns, list(new_log_reg.coef_[0])))\n",
    "features_dict"
   ]
  },
  {
   "cell_type": "code",
   "execution_count": 96,
   "id": "a157a99b-56b7-4787-8a90-e895a084b8f0",
   "metadata": {},
   "outputs": [
    {
     "data": {
      "text/plain": [
       "<module 'matplotlib.pyplot' from '/Users/daniel/Desktop/env/lib/python3.11/site-packages/matplotlib/pyplot.py'>"
      ]
     },
     "execution_count": 96,
     "metadata": {},
     "output_type": "execute_result"
    },
    {
     "data": {
      "image/png": "[encoded data removed]",
      "text/plain": [
       "<Figure size 640x480 with 1 Axes>"
      ]
     },
     "metadata": {},
     "output_type": "display_data"
    }
   ],
   "source": [
    "# Visualize feature importance\n",
    "features_df = pd.DataFrame(features_dict, index=[0])\n",
    "features_df.T.plot.bar(title=\"Feature Importance\", legend=False);"
   ]
  },
  {
   "cell_type": "markdown",
   "id": "be02bbe1-c4ef-4ff0-9846-34589c979ef7",
   "metadata": {},
   "source": [
    "Interpreting Logistic Regression Coefficients\n",
    "\n",
    "In Logistic Regression, the **larger the coefficient (positive or negative)**, the more influence that feature has on the model's decision.\n",
    "\n",
    "- **Positive values** → Feature increases the likelihood of predicting heart disease (target = 1).  \n",
    "- **Negative values** → Feature decreases the likelihood of predicting heart disease.\n",
    "\n",
    "For example:\n",
    "- The `sex` feature has a coefficient of **-0.904**, meaning as `sex` increases (from 0 to 1), the model is more likely to predict **no heart disease**.\n",
    "- This reflects a **negative correlation** between being male (`sex = 1`) and the model predicting heart disease.\n",
    "\n",
    "You can confirm this relationship by visually comparing the `sex` and `target` columns in the dataset.\n"
   ]
  },
  {
   "cell_type": "code",
   "execution_count": 97,
   "id": "9144a219-a7f2-4bcf-82ff-aa4de55c618c",
   "metadata": {},
   "outputs": [
    {
     "data": {
      "text/html": [
       "<div>\n",
       "<style scoped>\n",
       "    .dataframe tbody tr th:only-of-type {\n",
       "        vertical-align: middle;\n",
       "    }\n",
       "\n",
       "    .dataframe tbody tr th {\n",
       "        vertical-align: top;\n",
       "    }\n",
       "\n",
       "    .dataframe thead th {\n",
       "        text-align: right;\n",
       "    }\n",
       "</style>\n",
       "<table border=\"1\" class=\"dataframe\">\n",
       "  <thead>\n",
       "    <tr style=\"text-align: right;\">\n",
       "      <th>target</th>\n",
       "      <th>0</th>\n",
       "      <th>1</th>\n",
       "    </tr>\n",
       "    <tr>\n",
       "      <th>sex</th>\n",
       "      <th></th>\n",
       "      <th></th>\n",
       "    </tr>\n",
       "  </thead>\n",
       "  <tbody>\n",
       "    <tr>\n",
       "      <th>0</th>\n",
       "      <td>24</td>\n",
       "      <td>72</td>\n",
       "    </tr>\n",
       "    <tr>\n",
       "      <th>1</th>\n",
       "      <td>114</td>\n",
       "      <td>93</td>\n",
       "    </tr>\n",
       "  </tbody>\n",
       "</table>\n",
       "</div>"
      ],
      "text/plain": [
       "target    0   1\n",
       "sex            \n",
       "0        24  72\n",
       "1       114  93"
      ]
     },
     "execution_count": 97,
     "metadata": {},
     "output_type": "execute_result"
    }
   ],
   "source": [
    "pd.crosstab(df[\"sex\"], df[\"target\"])"
   ]
  },
  {
   "cell_type": "markdown",
   "id": "034ef7ff-b622-4508-bd4a-614e5cd80cc7",
   "metadata": {},
   "source": [
    "Looking at the data:\n",
    "\n",
    "- When `sex = 0` (female):  \n",
    "  - **72 out of 96** females have heart disease.  \n",
    "  - That’s about **3 times more** with heart disease than without (72 vs. 24).\n",
    "\n",
    "- When `sex = 1` (male):  \n",
    "  - The numbers are **more balanced** — 114 without vs. 93 with heart disease.\n",
    "\n",
    "---\n",
    "\n",
    "**What Does This Mean?**\n",
    "\n",
    "The model has **picked up this pattern** in the data:  \n",
    "- **Females** in this dataset are **more likely** to have heart disease.  \n",
    "- This is reflected by the **negative coefficient for `sex`**, meaning as the `sex` value increases (from 0 to 1), the **probability of heart disease decreases**.\n",
    "\n",
    "This is how Logistic Regression **learns patterns** — by assigning weights (positive or negative) based on how each feature correlates with the target.\n",
    "\n",
    "---\n",
    "\n",
    "**Next: Positive Correlation?**\n",
    "\n",
    "Let’s now look at a feature with a **positive coefficient** — which means:  \n",
    "> As the feature increases, the likelihood of heart disease **also increases**.\n"
   ]
  },
  {
   "cell_type": "code",
   "execution_count": 98,
   "id": "d57b9985-ea65-41dc-9b4a-8e1c56c3669b",
   "metadata": {},
   "outputs": [
    {
     "data": {
      "text/html": [
       "<div>\n",
       "<style scoped>\n",
       "    .dataframe tbody tr th:only-of-type {\n",
       "        vertical-align: middle;\n",
       "    }\n",
       "\n",
       "    .dataframe tbody tr th {\n",
       "        vertical-align: top;\n",
       "    }\n",
       "\n",
       "    .dataframe thead th {\n",
       "        text-align: right;\n",
       "    }\n",
       "</style>\n",
       "<table border=\"1\" class=\"dataframe\">\n",
       "  <thead>\n",
       "    <tr style=\"text-align: right;\">\n",
       "      <th>target</th>\n",
       "      <th>0</th>\n",
       "      <th>1</th>\n",
       "    </tr>\n",
       "    <tr>\n",
       "      <th>slope</th>\n",
       "      <th></th>\n",
       "      <th></th>\n",
       "    </tr>\n",
       "  </thead>\n",
       "  <tbody>\n",
       "    <tr>\n",
       "      <th>0</th>\n",
       "      <td>12</td>\n",
       "      <td>9</td>\n",
       "    </tr>\n",
       "    <tr>\n",
       "      <th>1</th>\n",
       "      <td>91</td>\n",
       "      <td>49</td>\n",
       "    </tr>\n",
       "    <tr>\n",
       "      <th>2</th>\n",
       "      <td>35</td>\n",
       "      <td>107</td>\n",
       "    </tr>\n",
       "  </tbody>\n",
       "</table>\n",
       "</div>"
      ],
      "text/plain": [
       "target   0    1\n",
       "slope          \n",
       "0       12    9\n",
       "1       91   49\n",
       "2       35  107"
      ]
     },
     "execution_count": 98,
     "metadata": {},
     "output_type": "execute_result"
    }
   ],
   "source": [
    "# Contrast slope (positive coefficient) with target\n",
    "pd.crosstab(df[\"slope\"], df[\"target\"])"
   ]
  },
  {
   "cell_type": "markdown",
   "id": "9f91d01d-a3cf-4949-b0c8-2b20ea3d1d97",
   "metadata": {},
   "source": [
    "\n",
    "Referring to the data dictionary, `slope` represents the **slope of the peak exercise ST segment**:\n",
    "- **0** = Upsloping (uncommon, usually healthier)\n",
    "- **1** = Flatsloping (typical)\n",
    "- **2** = Downsloping (linked to heart issues)\n",
    "\n",
    "Our model assigned `slope` a **positive correlation of 0.470** — not as strong as `sex`, but still meaningful.\n",
    "\n",
    "---\n",
    "A **positive coefficient** means:\n",
    "> As `slope` increases, so does the model’s likelihood of predicting heart disease.\n",
    "\n",
    "This is confirmed by:\n",
    "```python\n",
    "pd.crosstab(df[\"slope\"], df[\"target\"])\n"
   ]
  },
  {
   "cell_type": "code",
   "execution_count": null,
   "id": "9af60f5d-a54c-431a-8477-62e3a4fd69e1",
   "metadata": {},
   "outputs": [],
   "source": []
  }
 ],
 "metadata": {
  "kernelspec": {
   "display_name": "Python 3 (ipykernel)",
   "language": "python",
   "name": "python3"
  },
  "language_info": {
   "codemirror_mode": {
    "name": "ipython",
    "version": 3
   },
   "file_extension": ".py",
   "mimetype": "text/x-python",
   "name": "python",
   "nbconvert_exporter": "python",
   "pygments_lexer": "ipython3",
   "version": "3.11.7"
  }
 },
 "nbformat": 4,
 "nbformat_minor": 5
}
